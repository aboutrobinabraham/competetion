{
 "cells": [
  {
   "cell_type": "code",
   "execution_count": 1,
   "id": "376cb406",
   "metadata": {},
   "outputs": [],
   "source": [
    "import pandas as pd\n",
    "import numpy as np\n",
    "import matplotlib.pyplot as plt\n",
    "import seaborn as sns\n",
    "\n"
   ]
  },
  {
   "cell_type": "code",
   "execution_count": 2,
   "id": "f4331f19",
   "metadata": {},
   "outputs": [],
   "source": [
    "df=pd.read_excel(\"Rainfall_Data.xlsx\")"
   ]
  },
  {
   "cell_type": "code",
   "execution_count": 3,
   "id": "395d9a62",
   "metadata": {},
   "outputs": [],
   "source": [
    "df=df.drop(['Name'],axis=1)"
   ]
  },
  {
   "cell_type": "code",
   "execution_count": 4,
   "id": "1c7c75c3",
   "metadata": {},
   "outputs": [
    {
     "data": {
      "text/html": [
       "<div>\n",
       "<style scoped>\n",
       "    .dataframe tbody tr th:only-of-type {\n",
       "        vertical-align: middle;\n",
       "    }\n",
       "\n",
       "    .dataframe tbody tr th {\n",
       "        vertical-align: top;\n",
       "    }\n",
       "\n",
       "    .dataframe thead th {\n",
       "        text-align: right;\n",
       "    }\n",
       "</style>\n",
       "<table border=\"1\" class=\"dataframe\">\n",
       "  <thead>\n",
       "    <tr style=\"text-align: right;\">\n",
       "      <th></th>\n",
       "      <th>SUBDIVISION</th>\n",
       "      <th>YEAR</th>\n",
       "      <th>JAN</th>\n",
       "      <th>FEB</th>\n",
       "      <th>MAR</th>\n",
       "      <th>APR</th>\n",
       "      <th>MAY</th>\n",
       "      <th>JUN</th>\n",
       "      <th>JUL</th>\n",
       "      <th>AUG</th>\n",
       "      <th>SEP</th>\n",
       "      <th>OCT</th>\n",
       "      <th>NOV</th>\n",
       "      <th>DEC</th>\n",
       "      <th>Latitude</th>\n",
       "      <th>Longitude</th>\n",
       "    </tr>\n",
       "  </thead>\n",
       "  <tbody>\n",
       "    <tr>\n",
       "      <th>0</th>\n",
       "      <td>Andaman &amp; Nicobar Islands</td>\n",
       "      <td>1901</td>\n",
       "      <td>49.2</td>\n",
       "      <td>87.1</td>\n",
       "      <td>29.2</td>\n",
       "      <td>2.3</td>\n",
       "      <td>528.8</td>\n",
       "      <td>517.5</td>\n",
       "      <td>365.1</td>\n",
       "      <td>481.1</td>\n",
       "      <td>332.6</td>\n",
       "      <td>388.5</td>\n",
       "      <td>558.2</td>\n",
       "      <td>33.6</td>\n",
       "      <td>12.61124</td>\n",
       "      <td>92.83165</td>\n",
       "    </tr>\n",
       "    <tr>\n",
       "      <th>1</th>\n",
       "      <td>Andaman &amp; Nicobar Islands</td>\n",
       "      <td>1902</td>\n",
       "      <td>0.0</td>\n",
       "      <td>159.8</td>\n",
       "      <td>12.2</td>\n",
       "      <td>0.0</td>\n",
       "      <td>446.1</td>\n",
       "      <td>537.1</td>\n",
       "      <td>228.9</td>\n",
       "      <td>753.7</td>\n",
       "      <td>666.2</td>\n",
       "      <td>197.2</td>\n",
       "      <td>359.0</td>\n",
       "      <td>160.5</td>\n",
       "      <td>12.61124</td>\n",
       "      <td>92.83165</td>\n",
       "    </tr>\n",
       "    <tr>\n",
       "      <th>2</th>\n",
       "      <td>Andaman &amp; Nicobar Islands</td>\n",
       "      <td>1903</td>\n",
       "      <td>12.7</td>\n",
       "      <td>144.0</td>\n",
       "      <td>0.0</td>\n",
       "      <td>1.0</td>\n",
       "      <td>235.1</td>\n",
       "      <td>479.9</td>\n",
       "      <td>728.4</td>\n",
       "      <td>326.7</td>\n",
       "      <td>339.0</td>\n",
       "      <td>181.2</td>\n",
       "      <td>284.4</td>\n",
       "      <td>225.0</td>\n",
       "      <td>12.61124</td>\n",
       "      <td>92.83165</td>\n",
       "    </tr>\n",
       "    <tr>\n",
       "      <th>3</th>\n",
       "      <td>Andaman &amp; Nicobar Islands</td>\n",
       "      <td>1904</td>\n",
       "      <td>9.4</td>\n",
       "      <td>14.7</td>\n",
       "      <td>0.0</td>\n",
       "      <td>202.4</td>\n",
       "      <td>304.5</td>\n",
       "      <td>495.1</td>\n",
       "      <td>502.0</td>\n",
       "      <td>160.1</td>\n",
       "      <td>820.4</td>\n",
       "      <td>222.2</td>\n",
       "      <td>308.7</td>\n",
       "      <td>40.1</td>\n",
       "      <td>12.61124</td>\n",
       "      <td>92.83165</td>\n",
       "    </tr>\n",
       "    <tr>\n",
       "      <th>4</th>\n",
       "      <td>Andaman &amp; Nicobar Islands</td>\n",
       "      <td>1905</td>\n",
       "      <td>1.3</td>\n",
       "      <td>0.0</td>\n",
       "      <td>3.3</td>\n",
       "      <td>26.9</td>\n",
       "      <td>279.5</td>\n",
       "      <td>628.7</td>\n",
       "      <td>368.7</td>\n",
       "      <td>330.5</td>\n",
       "      <td>297.0</td>\n",
       "      <td>260.7</td>\n",
       "      <td>25.4</td>\n",
       "      <td>344.7</td>\n",
       "      <td>12.61124</td>\n",
       "      <td>92.83165</td>\n",
       "    </tr>\n",
       "  </tbody>\n",
       "</table>\n",
       "</div>"
      ],
      "text/plain": [
       "                 SUBDIVISION  YEAR   JAN    FEB   MAR    APR    MAY    JUN  \\\n",
       "0  Andaman & Nicobar Islands  1901  49.2   87.1  29.2    2.3  528.8  517.5   \n",
       "1  Andaman & Nicobar Islands  1902   0.0  159.8  12.2    0.0  446.1  537.1   \n",
       "2  Andaman & Nicobar Islands  1903  12.7  144.0   0.0    1.0  235.1  479.9   \n",
       "3  Andaman & Nicobar Islands  1904   9.4   14.7   0.0  202.4  304.5  495.1   \n",
       "4  Andaman & Nicobar Islands  1905   1.3    0.0   3.3   26.9  279.5  628.7   \n",
       "\n",
       "     JUL    AUG    SEP    OCT    NOV    DEC  Latitude  Longitude  \n",
       "0  365.1  481.1  332.6  388.5  558.2   33.6  12.61124   92.83165  \n",
       "1  228.9  753.7  666.2  197.2  359.0  160.5  12.61124   92.83165  \n",
       "2  728.4  326.7  339.0  181.2  284.4  225.0  12.61124   92.83165  \n",
       "3  502.0  160.1  820.4  222.2  308.7   40.1  12.61124   92.83165  \n",
       "4  368.7  330.5  297.0  260.7   25.4  344.7  12.61124   92.83165  "
      ]
     },
     "execution_count": 4,
     "metadata": {},
     "output_type": "execute_result"
    }
   ],
   "source": [
    "df.head()"
   ]
  },
  {
   "cell_type": "code",
   "execution_count": 5,
   "id": "3258159d",
   "metadata": {},
   "outputs": [],
   "source": [
    "df=df.loc[df['SUBDIVISION']=='Kerala']"
   ]
  },
  {
   "cell_type": "code",
   "execution_count": 6,
   "id": "24908cf6",
   "metadata": {},
   "outputs": [
    {
     "data": {
      "text/html": [
       "<div>\n",
       "<style scoped>\n",
       "    .dataframe tbody tr th:only-of-type {\n",
       "        vertical-align: middle;\n",
       "    }\n",
       "\n",
       "    .dataframe tbody tr th {\n",
       "        vertical-align: top;\n",
       "    }\n",
       "\n",
       "    .dataframe thead th {\n",
       "        text-align: right;\n",
       "    }\n",
       "</style>\n",
       "<table border=\"1\" class=\"dataframe\">\n",
       "  <thead>\n",
       "    <tr style=\"text-align: right;\">\n",
       "      <th></th>\n",
       "      <th>SUBDIVISION</th>\n",
       "      <th>YEAR</th>\n",
       "      <th>JAN</th>\n",
       "      <th>FEB</th>\n",
       "      <th>MAR</th>\n",
       "      <th>APR</th>\n",
       "      <th>MAY</th>\n",
       "      <th>JUN</th>\n",
       "      <th>JUL</th>\n",
       "      <th>AUG</th>\n",
       "      <th>SEP</th>\n",
       "      <th>OCT</th>\n",
       "      <th>NOV</th>\n",
       "      <th>DEC</th>\n",
       "      <th>Latitude</th>\n",
       "      <th>Longitude</th>\n",
       "    </tr>\n",
       "  </thead>\n",
       "  <tbody>\n",
       "    <tr>\n",
       "      <th>3955</th>\n",
       "      <td>Kerala</td>\n",
       "      <td>1901</td>\n",
       "      <td>28.7</td>\n",
       "      <td>44.7</td>\n",
       "      <td>51.6</td>\n",
       "      <td>160.0</td>\n",
       "      <td>174.7</td>\n",
       "      <td>824.6</td>\n",
       "      <td>743.0</td>\n",
       "      <td>357.5</td>\n",
       "      <td>197.7</td>\n",
       "      <td>266.9</td>\n",
       "      <td>350.8</td>\n",
       "      <td>48.4</td>\n",
       "      <td>10.35287</td>\n",
       "      <td>76.51204</td>\n",
       "    </tr>\n",
       "    <tr>\n",
       "      <th>3956</th>\n",
       "      <td>Kerala</td>\n",
       "      <td>1902</td>\n",
       "      <td>6.7</td>\n",
       "      <td>2.6</td>\n",
       "      <td>57.3</td>\n",
       "      <td>83.9</td>\n",
       "      <td>134.5</td>\n",
       "      <td>390.9</td>\n",
       "      <td>1205.0</td>\n",
       "      <td>315.8</td>\n",
       "      <td>491.6</td>\n",
       "      <td>358.4</td>\n",
       "      <td>158.3</td>\n",
       "      <td>121.5</td>\n",
       "      <td>10.35287</td>\n",
       "      <td>76.51204</td>\n",
       "    </tr>\n",
       "    <tr>\n",
       "      <th>3957</th>\n",
       "      <td>Kerala</td>\n",
       "      <td>1903</td>\n",
       "      <td>3.2</td>\n",
       "      <td>18.6</td>\n",
       "      <td>3.1</td>\n",
       "      <td>83.6</td>\n",
       "      <td>249.7</td>\n",
       "      <td>558.6</td>\n",
       "      <td>1022.5</td>\n",
       "      <td>420.2</td>\n",
       "      <td>341.8</td>\n",
       "      <td>354.1</td>\n",
       "      <td>157.0</td>\n",
       "      <td>59.0</td>\n",
       "      <td>10.35287</td>\n",
       "      <td>76.51204</td>\n",
       "    </tr>\n",
       "    <tr>\n",
       "      <th>3958</th>\n",
       "      <td>Kerala</td>\n",
       "      <td>1904</td>\n",
       "      <td>23.7</td>\n",
       "      <td>3.0</td>\n",
       "      <td>32.2</td>\n",
       "      <td>71.5</td>\n",
       "      <td>235.7</td>\n",
       "      <td>1098.2</td>\n",
       "      <td>725.5</td>\n",
       "      <td>351.8</td>\n",
       "      <td>222.7</td>\n",
       "      <td>328.1</td>\n",
       "      <td>33.9</td>\n",
       "      <td>3.3</td>\n",
       "      <td>10.35287</td>\n",
       "      <td>76.51204</td>\n",
       "    </tr>\n",
       "    <tr>\n",
       "      <th>3959</th>\n",
       "      <td>Kerala</td>\n",
       "      <td>1905</td>\n",
       "      <td>1.2</td>\n",
       "      <td>NaN</td>\n",
       "      <td>9.4</td>\n",
       "      <td>105.9</td>\n",
       "      <td>263.3</td>\n",
       "      <td>850.2</td>\n",
       "      <td>520.5</td>\n",
       "      <td>293.6</td>\n",
       "      <td>217.2</td>\n",
       "      <td>383.5</td>\n",
       "      <td>74.4</td>\n",
       "      <td>0.2</td>\n",
       "      <td>10.35287</td>\n",
       "      <td>76.51204</td>\n",
       "    </tr>\n",
       "    <tr>\n",
       "      <th>...</th>\n",
       "      <td>...</td>\n",
       "      <td>...</td>\n",
       "      <td>...</td>\n",
       "      <td>...</td>\n",
       "      <td>...</td>\n",
       "      <td>...</td>\n",
       "      <td>...</td>\n",
       "      <td>...</td>\n",
       "      <td>...</td>\n",
       "      <td>...</td>\n",
       "      <td>...</td>\n",
       "      <td>...</td>\n",
       "      <td>...</td>\n",
       "      <td>...</td>\n",
       "      <td>...</td>\n",
       "      <td>...</td>\n",
       "    </tr>\n",
       "    <tr>\n",
       "      <th>4067</th>\n",
       "      <td>Kerala</td>\n",
       "      <td>2013</td>\n",
       "      <td>3.9</td>\n",
       "      <td>40.1</td>\n",
       "      <td>49.9</td>\n",
       "      <td>49.3</td>\n",
       "      <td>119.3</td>\n",
       "      <td>1042.7</td>\n",
       "      <td>830.2</td>\n",
       "      <td>369.7</td>\n",
       "      <td>318.6</td>\n",
       "      <td>259.9</td>\n",
       "      <td>154.9</td>\n",
       "      <td>17.0</td>\n",
       "      <td>10.35287</td>\n",
       "      <td>76.51204</td>\n",
       "    </tr>\n",
       "    <tr>\n",
       "      <th>4068</th>\n",
       "      <td>Kerala</td>\n",
       "      <td>2014</td>\n",
       "      <td>4.6</td>\n",
       "      <td>10.3</td>\n",
       "      <td>17.9</td>\n",
       "      <td>95.7</td>\n",
       "      <td>251.0</td>\n",
       "      <td>454.4</td>\n",
       "      <td>677.8</td>\n",
       "      <td>733.9</td>\n",
       "      <td>298.8</td>\n",
       "      <td>355.5</td>\n",
       "      <td>99.5</td>\n",
       "      <td>47.2</td>\n",
       "      <td>10.35287</td>\n",
       "      <td>76.51204</td>\n",
       "    </tr>\n",
       "    <tr>\n",
       "      <th>4069</th>\n",
       "      <td>Kerala</td>\n",
       "      <td>2015</td>\n",
       "      <td>3.1</td>\n",
       "      <td>5.8</td>\n",
       "      <td>50.1</td>\n",
       "      <td>214.1</td>\n",
       "      <td>201.8</td>\n",
       "      <td>563.6</td>\n",
       "      <td>406.0</td>\n",
       "      <td>252.2</td>\n",
       "      <td>292.9</td>\n",
       "      <td>308.1</td>\n",
       "      <td>223.6</td>\n",
       "      <td>79.4</td>\n",
       "      <td>10.35287</td>\n",
       "      <td>76.51204</td>\n",
       "    </tr>\n",
       "    <tr>\n",
       "      <th>4070</th>\n",
       "      <td>Kerala</td>\n",
       "      <td>2016</td>\n",
       "      <td>3.0</td>\n",
       "      <td>16.4</td>\n",
       "      <td>22.4</td>\n",
       "      <td>33.3</td>\n",
       "      <td>258.4</td>\n",
       "      <td>595.7</td>\n",
       "      <td>441.5</td>\n",
       "      <td>231.0</td>\n",
       "      <td>84.1</td>\n",
       "      <td>105.1</td>\n",
       "      <td>57.9</td>\n",
       "      <td>22.0</td>\n",
       "      <td>10.35287</td>\n",
       "      <td>76.51204</td>\n",
       "    </tr>\n",
       "    <tr>\n",
       "      <th>4071</th>\n",
       "      <td>Kerala</td>\n",
       "      <td>2017</td>\n",
       "      <td>12.7</td>\n",
       "      <td>0.3</td>\n",
       "      <td>87.8</td>\n",
       "      <td>52.8</td>\n",
       "      <td>213.3</td>\n",
       "      <td>579.8</td>\n",
       "      <td>378.5</td>\n",
       "      <td>462.6</td>\n",
       "      <td>435.5</td>\n",
       "      <td>228.0</td>\n",
       "      <td>152.1</td>\n",
       "      <td>61.4</td>\n",
       "      <td>10.35287</td>\n",
       "      <td>76.51204</td>\n",
       "    </tr>\n",
       "  </tbody>\n",
       "</table>\n",
       "<p>117 rows × 16 columns</p>\n",
       "</div>"
      ],
      "text/plain": [
       "     SUBDIVISION  YEAR   JAN   FEB   MAR    APR    MAY     JUN     JUL    AUG  \\\n",
       "3955      Kerala  1901  28.7  44.7  51.6  160.0  174.7   824.6   743.0  357.5   \n",
       "3956      Kerala  1902   6.7   2.6  57.3   83.9  134.5   390.9  1205.0  315.8   \n",
       "3957      Kerala  1903   3.2  18.6   3.1   83.6  249.7   558.6  1022.5  420.2   \n",
       "3958      Kerala  1904  23.7   3.0  32.2   71.5  235.7  1098.2   725.5  351.8   \n",
       "3959      Kerala  1905   1.2   NaN   9.4  105.9  263.3   850.2   520.5  293.6   \n",
       "...          ...   ...   ...   ...   ...    ...    ...     ...     ...    ...   \n",
       "4067      Kerala  2013   3.9  40.1  49.9   49.3  119.3  1042.7   830.2  369.7   \n",
       "4068      Kerala  2014   4.6  10.3  17.9   95.7  251.0   454.4   677.8  733.9   \n",
       "4069      Kerala  2015   3.1   5.8  50.1  214.1  201.8   563.6   406.0  252.2   \n",
       "4070      Kerala  2016   3.0  16.4  22.4   33.3  258.4   595.7   441.5  231.0   \n",
       "4071      Kerala  2017  12.7   0.3  87.8   52.8  213.3   579.8   378.5  462.6   \n",
       "\n",
       "        SEP    OCT    NOV    DEC  Latitude  Longitude  \n",
       "3955  197.7  266.9  350.8   48.4  10.35287   76.51204  \n",
       "3956  491.6  358.4  158.3  121.5  10.35287   76.51204  \n",
       "3957  341.8  354.1  157.0   59.0  10.35287   76.51204  \n",
       "3958  222.7  328.1   33.9    3.3  10.35287   76.51204  \n",
       "3959  217.2  383.5   74.4    0.2  10.35287   76.51204  \n",
       "...     ...    ...    ...    ...       ...        ...  \n",
       "4067  318.6  259.9  154.9   17.0  10.35287   76.51204  \n",
       "4068  298.8  355.5   99.5   47.2  10.35287   76.51204  \n",
       "4069  292.9  308.1  223.6   79.4  10.35287   76.51204  \n",
       "4070   84.1  105.1   57.9   22.0  10.35287   76.51204  \n",
       "4071  435.5  228.0  152.1   61.4  10.35287   76.51204  \n",
       "\n",
       "[117 rows x 16 columns]"
      ]
     },
     "execution_count": 6,
     "metadata": {},
     "output_type": "execute_result"
    }
   ],
   "source": [
    "df"
   ]
  },
  {
   "cell_type": "code",
   "execution_count": 7,
   "id": "4c1f0e25",
   "metadata": {},
   "outputs": [
    {
     "data": {
      "text/plain": [
       "SUBDIVISION    0\n",
       "YEAR           0\n",
       "JAN            1\n",
       "FEB            1\n",
       "MAR            1\n",
       "APR            2\n",
       "MAY            1\n",
       "JUN            2\n",
       "JUL            0\n",
       "AUG            1\n",
       "SEP            2\n",
       "OCT            1\n",
       "NOV            1\n",
       "DEC            1\n",
       "Latitude       0\n",
       "Longitude      0\n",
       "dtype: int64"
      ]
     },
     "execution_count": 7,
     "metadata": {},
     "output_type": "execute_result"
    }
   ],
   "source": [
    "df.isnull().sum()"
   ]
  },
  {
   "cell_type": "code",
   "execution_count": 8,
   "id": "09020cd8",
   "metadata": {},
   "outputs": [
    {
     "name": "stdout",
     "output_type": "stream",
     "text": [
      "<class 'pandas.core.frame.DataFrame'>\n",
      "Int64Index: 117 entries, 3955 to 4071\n",
      "Data columns (total 16 columns):\n",
      " #   Column       Non-Null Count  Dtype  \n",
      "---  ------       --------------  -----  \n",
      " 0   SUBDIVISION  117 non-null    object \n",
      " 1   YEAR         117 non-null    int64  \n",
      " 2   JAN          116 non-null    float64\n",
      " 3   FEB          116 non-null    float64\n",
      " 4   MAR          116 non-null    float64\n",
      " 5   APR          115 non-null    float64\n",
      " 6   MAY          116 non-null    float64\n",
      " 7   JUN          115 non-null    float64\n",
      " 8   JUL          117 non-null    float64\n",
      " 9   AUG          116 non-null    float64\n",
      " 10  SEP          115 non-null    float64\n",
      " 11  OCT          116 non-null    float64\n",
      " 12  NOV          116 non-null    float64\n",
      " 13  DEC          116 non-null    float64\n",
      " 14  Latitude     117 non-null    float64\n",
      " 15  Longitude    117 non-null    float64\n",
      "dtypes: float64(14), int64(1), object(1)\n",
      "memory usage: 15.5+ KB\n"
     ]
    }
   ],
   "source": [
    "df.info()"
   ]
  },
  {
   "cell_type": "code",
   "execution_count": 9,
   "id": "589ff29a",
   "metadata": {},
   "outputs": [
    {
     "data": {
      "text/plain": [
       "<AxesSubplot:>"
      ]
     },
     "execution_count": 9,
     "metadata": {},
     "output_type": "execute_result"
    },
    {
     "data": {
      "image/png": "[encoded data removed]",
      "text/plain": [
       "<Figure size 432x288 with 1 Axes>"
      ]
     },
     "metadata": {
      "needs_background": "light"
     },
     "output_type": "display_data"
    }
   ],
   "source": [
    "sns.boxplot(data=df)"
   ]
  },
  {
   "cell_type": "code",
   "execution_count": 10,
   "id": "55f9ea8a",
   "metadata": {},
   "outputs": [
    {
     "data": {
      "text/plain": [
       "<AxesSubplot:>"
      ]
     },
     "execution_count": 10,
     "metadata": {},
     "output_type": "execute_result"
    },
    {
     "data": {
      "image/png": "[encoded data removed]",
      "text/plain": [
       "<Figure size 432x288 with 1 Axes>"
      ]
     },
     "metadata": {
      "needs_background": "light"
     },
     "output_type": "display_data"
    }
   ],
   "source": [
    "df['JUN'].plot(kind='box')"
   ]
  },
  {
   "cell_type": "code",
   "execution_count": 11,
   "id": "79dfc54d",
   "metadata": {},
   "outputs": [
    {
     "data": {
      "text/plain": [
       "3955     824.6\n",
       "3956     390.9\n",
       "3957     558.6\n",
       "3958    1098.2\n",
       "3959     850.2\n",
       "         ...  \n",
       "4067    1042.7\n",
       "4068     454.4\n",
       "4069     563.6\n",
       "4070     595.7\n",
       "4071     579.8\n",
       "Name: JUN, Length: 117, dtype: object"
      ]
     },
     "execution_count": 11,
     "metadata": {},
     "output_type": "execute_result"
    }
   ],
   "source": [
    "df['JUN'].fillna(df['JUN'].median)"
   ]
  },
  {
   "cell_type": "code",
   "execution_count": 12,
   "id": "823dcade",
   "metadata": {},
   "outputs": [
    {
     "data": {
      "text/plain": [
       "SUBDIVISION    0\n",
       "YEAR           0\n",
       "JAN            1\n",
       "FEB            1\n",
       "MAR            1\n",
       "APR            2\n",
       "MAY            1\n",
       "JUN            2\n",
       "JUL            0\n",
       "AUG            1\n",
       "SEP            2\n",
       "OCT            1\n",
       "NOV            1\n",
       "DEC            1\n",
       "Latitude       0\n",
       "Longitude      0\n",
       "dtype: int64"
      ]
     },
     "execution_count": 12,
     "metadata": {},
     "output_type": "execute_result"
    }
   ],
   "source": [
    "df.isnull().sum()"
   ]
  },
  {
   "cell_type": "code",
   "execution_count": 13,
   "id": "6d9e7064",
   "metadata": {},
   "outputs": [],
   "source": [
    "cols=['JAN','FEB','MAR','APR','MAY','JUN','JUL','AUG','SEP','OCT','NOV','DEC']"
   ]
  },
  {
   "cell_type": "code",
   "execution_count": 14,
   "id": "359ab445",
   "metadata": {},
   "outputs": [],
   "source": [
    "for i in cols:\n",
    "    df[i].fillna(df[i].median(),inplace=True)"
   ]
  },
  {
   "cell_type": "code",
   "execution_count": 15,
   "id": "24d9a753",
   "metadata": {
    "scrolled": true
   },
   "outputs": [
    {
     "data": {
      "text/plain": [
       "SUBDIVISION    0\n",
       "YEAR           0\n",
       "JAN            0\n",
       "FEB            0\n",
       "MAR            0\n",
       "APR            0\n",
       "MAY            0\n",
       "JUN            0\n",
       "JUL            0\n",
       "AUG            0\n",
       "SEP            0\n",
       "OCT            0\n",
       "NOV            0\n",
       "DEC            0\n",
       "Latitude       0\n",
       "Longitude      0\n",
       "dtype: int64"
      ]
     },
     "execution_count": 15,
     "metadata": {},
     "output_type": "execute_result"
    }
   ],
   "source": [
    "df.isnull().sum()"
   ]
  },
  {
   "cell_type": "code",
   "execution_count": 16,
   "id": "d65edb2e",
   "metadata": {},
   "outputs": [
    {
     "data": {
      "text/html": [
       "<div>\n",
       "<style scoped>\n",
       "    .dataframe tbody tr th:only-of-type {\n",
       "        vertical-align: middle;\n",
       "    }\n",
       "\n",
       "    .dataframe tbody tr th {\n",
       "        vertical-align: top;\n",
       "    }\n",
       "\n",
       "    .dataframe thead th {\n",
       "        text-align: right;\n",
       "    }\n",
       "</style>\n",
       "<table border=\"1\" class=\"dataframe\">\n",
       "  <thead>\n",
       "    <tr style=\"text-align: right;\">\n",
       "      <th></th>\n",
       "      <th>SUBDIVISION</th>\n",
       "      <th>YEAR</th>\n",
       "      <th>JAN</th>\n",
       "      <th>FEB</th>\n",
       "      <th>MAR</th>\n",
       "      <th>APR</th>\n",
       "      <th>MAY</th>\n",
       "      <th>JUN</th>\n",
       "      <th>JUL</th>\n",
       "      <th>AUG</th>\n",
       "      <th>SEP</th>\n",
       "      <th>OCT</th>\n",
       "      <th>NOV</th>\n",
       "      <th>DEC</th>\n",
       "      <th>Latitude</th>\n",
       "      <th>Longitude</th>\n",
       "    </tr>\n",
       "  </thead>\n",
       "  <tbody>\n",
       "    <tr>\n",
       "      <th>3955</th>\n",
       "      <td>Kerala</td>\n",
       "      <td>1901</td>\n",
       "      <td>28.7</td>\n",
       "      <td>44.70</td>\n",
       "      <td>51.6</td>\n",
       "      <td>160.0</td>\n",
       "      <td>174.7</td>\n",
       "      <td>824.6</td>\n",
       "      <td>743.0</td>\n",
       "      <td>357.5</td>\n",
       "      <td>197.7</td>\n",
       "      <td>266.9</td>\n",
       "      <td>350.8</td>\n",
       "      <td>48.4</td>\n",
       "      <td>10.35287</td>\n",
       "      <td>76.51204</td>\n",
       "    </tr>\n",
       "    <tr>\n",
       "      <th>3956</th>\n",
       "      <td>Kerala</td>\n",
       "      <td>1902</td>\n",
       "      <td>6.7</td>\n",
       "      <td>2.60</td>\n",
       "      <td>57.3</td>\n",
       "      <td>83.9</td>\n",
       "      <td>134.5</td>\n",
       "      <td>390.9</td>\n",
       "      <td>1205.0</td>\n",
       "      <td>315.8</td>\n",
       "      <td>491.6</td>\n",
       "      <td>358.4</td>\n",
       "      <td>158.3</td>\n",
       "      <td>121.5</td>\n",
       "      <td>10.35287</td>\n",
       "      <td>76.51204</td>\n",
       "    </tr>\n",
       "    <tr>\n",
       "      <th>3957</th>\n",
       "      <td>Kerala</td>\n",
       "      <td>1903</td>\n",
       "      <td>3.2</td>\n",
       "      <td>18.60</td>\n",
       "      <td>3.1</td>\n",
       "      <td>83.6</td>\n",
       "      <td>249.7</td>\n",
       "      <td>558.6</td>\n",
       "      <td>1022.5</td>\n",
       "      <td>420.2</td>\n",
       "      <td>341.8</td>\n",
       "      <td>354.1</td>\n",
       "      <td>157.0</td>\n",
       "      <td>59.0</td>\n",
       "      <td>10.35287</td>\n",
       "      <td>76.51204</td>\n",
       "    </tr>\n",
       "    <tr>\n",
       "      <th>3958</th>\n",
       "      <td>Kerala</td>\n",
       "      <td>1904</td>\n",
       "      <td>23.7</td>\n",
       "      <td>3.00</td>\n",
       "      <td>32.2</td>\n",
       "      <td>71.5</td>\n",
       "      <td>235.7</td>\n",
       "      <td>1098.2</td>\n",
       "      <td>725.5</td>\n",
       "      <td>351.8</td>\n",
       "      <td>222.7</td>\n",
       "      <td>328.1</td>\n",
       "      <td>33.9</td>\n",
       "      <td>3.3</td>\n",
       "      <td>10.35287</td>\n",
       "      <td>76.51204</td>\n",
       "    </tr>\n",
       "    <tr>\n",
       "      <th>3959</th>\n",
       "      <td>Kerala</td>\n",
       "      <td>1905</td>\n",
       "      <td>1.2</td>\n",
       "      <td>8.35</td>\n",
       "      <td>9.4</td>\n",
       "      <td>105.9</td>\n",
       "      <td>263.3</td>\n",
       "      <td>850.2</td>\n",
       "      <td>520.5</td>\n",
       "      <td>293.6</td>\n",
       "      <td>217.2</td>\n",
       "      <td>383.5</td>\n",
       "      <td>74.4</td>\n",
       "      <td>0.2</td>\n",
       "      <td>10.35287</td>\n",
       "      <td>76.51204</td>\n",
       "    </tr>\n",
       "    <tr>\n",
       "      <th>...</th>\n",
       "      <td>...</td>\n",
       "      <td>...</td>\n",
       "      <td>...</td>\n",
       "      <td>...</td>\n",
       "      <td>...</td>\n",
       "      <td>...</td>\n",
       "      <td>...</td>\n",
       "      <td>...</td>\n",
       "      <td>...</td>\n",
       "      <td>...</td>\n",
       "      <td>...</td>\n",
       "      <td>...</td>\n",
       "      <td>...</td>\n",
       "      <td>...</td>\n",
       "      <td>...</td>\n",
       "      <td>...</td>\n",
       "    </tr>\n",
       "    <tr>\n",
       "      <th>4067</th>\n",
       "      <td>Kerala</td>\n",
       "      <td>2013</td>\n",
       "      <td>3.9</td>\n",
       "      <td>40.10</td>\n",
       "      <td>49.9</td>\n",
       "      <td>49.3</td>\n",
       "      <td>119.3</td>\n",
       "      <td>1042.7</td>\n",
       "      <td>830.2</td>\n",
       "      <td>369.7</td>\n",
       "      <td>318.6</td>\n",
       "      <td>259.9</td>\n",
       "      <td>154.9</td>\n",
       "      <td>17.0</td>\n",
       "      <td>10.35287</td>\n",
       "      <td>76.51204</td>\n",
       "    </tr>\n",
       "    <tr>\n",
       "      <th>4068</th>\n",
       "      <td>Kerala</td>\n",
       "      <td>2014</td>\n",
       "      <td>4.6</td>\n",
       "      <td>10.30</td>\n",
       "      <td>17.9</td>\n",
       "      <td>95.7</td>\n",
       "      <td>251.0</td>\n",
       "      <td>454.4</td>\n",
       "      <td>677.8</td>\n",
       "      <td>733.9</td>\n",
       "      <td>298.8</td>\n",
       "      <td>355.5</td>\n",
       "      <td>99.5</td>\n",
       "      <td>47.2</td>\n",
       "      <td>10.35287</td>\n",
       "      <td>76.51204</td>\n",
       "    </tr>\n",
       "    <tr>\n",
       "      <th>4069</th>\n",
       "      <td>Kerala</td>\n",
       "      <td>2015</td>\n",
       "      <td>3.1</td>\n",
       "      <td>5.80</td>\n",
       "      <td>50.1</td>\n",
       "      <td>214.1</td>\n",
       "      <td>201.8</td>\n",
       "      <td>563.6</td>\n",
       "      <td>406.0</td>\n",
       "      <td>252.2</td>\n",
       "      <td>292.9</td>\n",
       "      <td>308.1</td>\n",
       "      <td>223.6</td>\n",
       "      <td>79.4</td>\n",
       "      <td>10.35287</td>\n",
       "      <td>76.51204</td>\n",
       "    </tr>\n",
       "    <tr>\n",
       "      <th>4070</th>\n",
       "      <td>Kerala</td>\n",
       "      <td>2016</td>\n",
       "      <td>3.0</td>\n",
       "      <td>16.40</td>\n",
       "      <td>22.4</td>\n",
       "      <td>33.3</td>\n",
       "      <td>258.4</td>\n",
       "      <td>595.7</td>\n",
       "      <td>441.5</td>\n",
       "      <td>231.0</td>\n",
       "      <td>84.1</td>\n",
       "      <td>105.1</td>\n",
       "      <td>57.9</td>\n",
       "      <td>22.0</td>\n",
       "      <td>10.35287</td>\n",
       "      <td>76.51204</td>\n",
       "    </tr>\n",
       "    <tr>\n",
       "      <th>4071</th>\n",
       "      <td>Kerala</td>\n",
       "      <td>2017</td>\n",
       "      <td>12.7</td>\n",
       "      <td>0.30</td>\n",
       "      <td>87.8</td>\n",
       "      <td>52.8</td>\n",
       "      <td>213.3</td>\n",
       "      <td>579.8</td>\n",
       "      <td>378.5</td>\n",
       "      <td>462.6</td>\n",
       "      <td>435.5</td>\n",
       "      <td>228.0</td>\n",
       "      <td>152.1</td>\n",
       "      <td>61.4</td>\n",
       "      <td>10.35287</td>\n",
       "      <td>76.51204</td>\n",
       "    </tr>\n",
       "  </tbody>\n",
       "</table>\n",
       "<p>117 rows × 16 columns</p>\n",
       "</div>"
      ],
      "text/plain": [
       "     SUBDIVISION  YEAR   JAN    FEB   MAR    APR    MAY     JUN     JUL  \\\n",
       "3955      Kerala  1901  28.7  44.70  51.6  160.0  174.7   824.6   743.0   \n",
       "3956      Kerala  1902   6.7   2.60  57.3   83.9  134.5   390.9  1205.0   \n",
       "3957      Kerala  1903   3.2  18.60   3.1   83.6  249.7   558.6  1022.5   \n",
       "3958      Kerala  1904  23.7   3.00  32.2   71.5  235.7  1098.2   725.5   \n",
       "3959      Kerala  1905   1.2   8.35   9.4  105.9  263.3   850.2   520.5   \n",
       "...          ...   ...   ...    ...   ...    ...    ...     ...     ...   \n",
       "4067      Kerala  2013   3.9  40.10  49.9   49.3  119.3  1042.7   830.2   \n",
       "4068      Kerala  2014   4.6  10.30  17.9   95.7  251.0   454.4   677.8   \n",
       "4069      Kerala  2015   3.1   5.80  50.1  214.1  201.8   563.6   406.0   \n",
       "4070      Kerala  2016   3.0  16.40  22.4   33.3  258.4   595.7   441.5   \n",
       "4071      Kerala  2017  12.7   0.30  87.8   52.8  213.3   579.8   378.5   \n",
       "\n",
       "        AUG    SEP    OCT    NOV    DEC  Latitude  Longitude  \n",
       "3955  357.5  197.7  266.9  350.8   48.4  10.35287   76.51204  \n",
       "3956  315.8  491.6  358.4  158.3  121.5  10.35287   76.51204  \n",
       "3957  420.2  341.8  354.1  157.0   59.0  10.35287   76.51204  \n",
       "3958  351.8  222.7  328.1   33.9    3.3  10.35287   76.51204  \n",
       "3959  293.6  217.2  383.5   74.4    0.2  10.35287   76.51204  \n",
       "...     ...    ...    ...    ...    ...       ...        ...  \n",
       "4067  369.7  318.6  259.9  154.9   17.0  10.35287   76.51204  \n",
       "4068  733.9  298.8  355.5   99.5   47.2  10.35287   76.51204  \n",
       "4069  252.2  292.9  308.1  223.6   79.4  10.35287   76.51204  \n",
       "4070  231.0   84.1  105.1   57.9   22.0  10.35287   76.51204  \n",
       "4071  462.6  435.5  228.0  152.1   61.4  10.35287   76.51204  \n",
       "\n",
       "[117 rows x 16 columns]"
      ]
     },
     "execution_count": 16,
     "metadata": {},
     "output_type": "execute_result"
    }
   ],
   "source": [
    "df"
   ]
  },
  {
   "cell_type": "code",
   "execution_count": 17,
   "id": "1f4cf78a",
   "metadata": {},
   "outputs": [
    {
     "data": {
      "image/png": "[encoded data removed]",
      "text/plain": [
       "<Figure size 432x288 with 1 Axes>"
      ]
     },
     "metadata": {
      "needs_background": "light"
     },
     "output_type": "display_data"
    },
    {
     "data": {
      "image/png": "[encoded data removed]",
      "text/plain": [
       "<Figure size 432x288 with 1 Axes>"
      ]
     },
     "metadata": {
      "needs_background": "light"
     },
     "output_type": "display_data"
    },
    {
     "data": {
      "image/png": "[encoded data removed]",
      "text/plain": [
       "<Figure size 432x288 with 1 Axes>"
      ]
     },
     "metadata": {
      "needs_background": "light"
     },
     "output_type": "display_data"
    },
    {
     "data": {
      "image/png": "[encoded data removed]",
      "text/plain": [
       "<Figure size 432x288 with 1 Axes>"
      ]
     },
     "metadata": {
      "needs_background": "light"
     },
     "output_type": "display_data"
    },
    {
     "data": {
      "image/png": "[encoded data removed]",
      "text/plain": [
       "<Figure size 432x288 with 1 Axes>"
      ]
     },
     "metadata": {
      "needs_background": "light"
     },
     "output_type": "display_data"
    },
    {
     "data": {
      "image/png": "[encoded data removed]",
      "text/plain": [
       "<Figure size 432x288 with 1 Axes>"
      ]
     },
     "metadata": {
      "needs_background": "light"
     },
     "output_type": "display_data"
    },
    {
     "data": {
      "image/png": "[encoded data removed]",
      "text/plain": [
       "<Figure size 432x288 with 1 Axes>"
      ]
     },
     "metadata": {
      "needs_background": "light"
     },
     "output_type": "display_data"
    },
    {
     "data": {
      "image/png": "[encoded data removed]",
      "text/plain": [
       "<Figure size 432x288 with 1 Axes>"
      ]
     },
     "metadata": {
      "needs_background": "light"
     },
     "output_type": "display_data"
    },
    {
     "data": {
      "image/png": "[encoded data removed]",
      "text/plain": [
       "<Figure size 432x288 with 1 Axes>"
      ]
     },
     "metadata": {
      "needs_background": "light"
     },
     "output_type": "display_data"
    },
    {
     "data": {
      "image/png": "[encoded data removed]",
      "text/plain": [
       "<Figure size 432x288 with 1 Axes>"
      ]
     },
     "metadata": {
      "needs_background": "light"
     },
     "output_type": "display_data"
    },
    {
     "data": {
      "image/png": "[encoded data removed]",
      "text/plain": [
       "<Figure size 432x288 with 1 Axes>"
      ]
     },
     "metadata": {
      "needs_background": "light"
     },
     "output_type": "display_data"
    },
    {
     "data": {
      "image/png": "[encoded data removed]",
      "text/plain": [
       "<Figure size 432x288 with 1 Axes>"
      ]
     },
     "metadata": {
      "needs_background": "light"
     },
     "output_type": "display_data"
    }
   ],
   "source": [
    "for x in cols:\n",
    " Q1=np.percentile(df[x],25, interpolation ='midpoint')\n",
    " Q2=np.percentile(df[x],50, interpolation ='midpoint')\n",
    " Q3=np.percentile(df[x],75, interpolation ='midpoint')\n",
    " IQR =Q3-Q1\n",
    " low_limit = Q1-1.5*IQR\n",
    " upper_limit =Q3+1.5*IQR\n",
    " ind_1 =df[x]>upper_limit\n",
    " df.drop(df.loc[ind_1].index,inplace =True)\n",
    " ind_2 =df[x]<low_limit\n",
    " df.drop(df.loc[ind_2].index,inplace =True)\n",
    " df[[x]].boxplot()\n",
    " plt.show()\n"
   ]
  },
  {
   "cell_type": "markdown",
   "id": "39a7e69b",
   "metadata": {},
   "source": [
    "Since upper outliers  are important for flood prediction we dont remove those "
   ]
  },
  {
   "cell_type": "markdown",
   "id": "f7411768",
   "metadata": {},
   "source": [
    "# Feature reduction"
   ]
  },
  {
   "cell_type": "code",
   "execution_count": 18,
   "id": "66bf8c0c",
   "metadata": {},
   "outputs": [
    {
     "data": {
      "text/plain": [
       "<AxesSubplot:>"
      ]
     },
     "execution_count": 18,
     "metadata": {},
     "output_type": "execute_result"
    },
    {
     "data": {
      "image/png": "[encoded data removed]",
      "text/plain": [
       "<Figure size 1440x576 with 2 Axes>"
      ]
     },
     "metadata": {
      "needs_background": "light"
     },
     "output_type": "display_data"
    }
   ],
   "source": [
    "corrmatrix= df.corr()\n",
    "plt.subplots(figsize=(20,8))\n",
    "sns.heatmap(corrmatrix,vmin=-0.5,vmax=1,annot=True,cmap='YlGnBu')"
   ]
  },
  {
   "cell_type": "markdown",
   "id": "f6f23f3e",
   "metadata": {},
   "source": [
    "since latitude and longtitude have no relevance we can remove those coloums"
   ]
  },
  {
   "cell_type": "code",
   "execution_count": 19,
   "id": "e176bb44",
   "metadata": {},
   "outputs": [],
   "source": [
    "df.drop(['Latitude','Longitude','SUBDIVISION'], axis=1,inplace=True)"
   ]
  },
  {
   "cell_type": "markdown",
   "id": "ba74202b",
   "metadata": {},
   "source": [
    "# Feature engineering"
   ]
  },
  {
   "cell_type": "code",
   "execution_count": 20,
   "id": "33cff7e8",
   "metadata": {},
   "outputs": [],
   "source": [
    "df['Winter']=df['DEC']+df['JAN']+df['FEB']\n",
    "df['Pre_monsoon']=df['MAR']+df['APR']+df['MAY']\n",
    "df['Monsoon']=df['JUN']+df['JUL']+df['AUG']+df['SEP']\n",
    "df['Post_monsoon']=df['OCT']+df['NOV']"
   ]
  },
  {
   "cell_type": "code",
   "execution_count": 21,
   "id": "3ba0de18",
   "metadata": {},
   "outputs": [
    {
     "data": {
      "text/html": [
       "<div>\n",
       "<style scoped>\n",
       "    .dataframe tbody tr th:only-of-type {\n",
       "        vertical-align: middle;\n",
       "    }\n",
       "\n",
       "    .dataframe tbody tr th {\n",
       "        vertical-align: top;\n",
       "    }\n",
       "\n",
       "    .dataframe thead th {\n",
       "        text-align: right;\n",
       "    }\n",
       "</style>\n",
       "<table border=\"1\" class=\"dataframe\">\n",
       "  <thead>\n",
       "    <tr style=\"text-align: right;\">\n",
       "      <th></th>\n",
       "      <th>YEAR</th>\n",
       "      <th>JAN</th>\n",
       "      <th>FEB</th>\n",
       "      <th>MAR</th>\n",
       "      <th>APR</th>\n",
       "      <th>MAY</th>\n",
       "      <th>JUN</th>\n",
       "      <th>JUL</th>\n",
       "      <th>AUG</th>\n",
       "      <th>SEP</th>\n",
       "      <th>OCT</th>\n",
       "      <th>NOV</th>\n",
       "      <th>DEC</th>\n",
       "      <th>Winter</th>\n",
       "      <th>Pre_monsoon</th>\n",
       "      <th>Monsoon</th>\n",
       "      <th>Post_monsoon</th>\n",
       "    </tr>\n",
       "  </thead>\n",
       "  <tbody>\n",
       "    <tr>\n",
       "      <th>3955</th>\n",
       "      <td>1901</td>\n",
       "      <td>28.7</td>\n",
       "      <td>44.70</td>\n",
       "      <td>51.6</td>\n",
       "      <td>160.0</td>\n",
       "      <td>174.7</td>\n",
       "      <td>824.6</td>\n",
       "      <td>743.0</td>\n",
       "      <td>357.5</td>\n",
       "      <td>197.7</td>\n",
       "      <td>266.9</td>\n",
       "      <td>350.8</td>\n",
       "      <td>48.4</td>\n",
       "      <td>121.80</td>\n",
       "      <td>386.3</td>\n",
       "      <td>2122.8</td>\n",
       "      <td>617.7</td>\n",
       "    </tr>\n",
       "    <tr>\n",
       "      <th>3956</th>\n",
       "      <td>1902</td>\n",
       "      <td>6.7</td>\n",
       "      <td>2.60</td>\n",
       "      <td>57.3</td>\n",
       "      <td>83.9</td>\n",
       "      <td>134.5</td>\n",
       "      <td>390.9</td>\n",
       "      <td>1205.0</td>\n",
       "      <td>315.8</td>\n",
       "      <td>491.6</td>\n",
       "      <td>358.4</td>\n",
       "      <td>158.3</td>\n",
       "      <td>121.5</td>\n",
       "      <td>130.80</td>\n",
       "      <td>275.7</td>\n",
       "      <td>2403.3</td>\n",
       "      <td>516.7</td>\n",
       "    </tr>\n",
       "    <tr>\n",
       "      <th>3957</th>\n",
       "      <td>1903</td>\n",
       "      <td>3.2</td>\n",
       "      <td>18.60</td>\n",
       "      <td>3.1</td>\n",
       "      <td>83.6</td>\n",
       "      <td>249.7</td>\n",
       "      <td>558.6</td>\n",
       "      <td>1022.5</td>\n",
       "      <td>420.2</td>\n",
       "      <td>341.8</td>\n",
       "      <td>354.1</td>\n",
       "      <td>157.0</td>\n",
       "      <td>59.0</td>\n",
       "      <td>80.80</td>\n",
       "      <td>336.4</td>\n",
       "      <td>2343.1</td>\n",
       "      <td>511.1</td>\n",
       "    </tr>\n",
       "    <tr>\n",
       "      <th>3958</th>\n",
       "      <td>1904</td>\n",
       "      <td>23.7</td>\n",
       "      <td>3.00</td>\n",
       "      <td>32.2</td>\n",
       "      <td>71.5</td>\n",
       "      <td>235.7</td>\n",
       "      <td>1098.2</td>\n",
       "      <td>725.5</td>\n",
       "      <td>351.8</td>\n",
       "      <td>222.7</td>\n",
       "      <td>328.1</td>\n",
       "      <td>33.9</td>\n",
       "      <td>3.3</td>\n",
       "      <td>30.00</td>\n",
       "      <td>339.4</td>\n",
       "      <td>2398.2</td>\n",
       "      <td>362.0</td>\n",
       "    </tr>\n",
       "    <tr>\n",
       "      <th>3959</th>\n",
       "      <td>1905</td>\n",
       "      <td>1.2</td>\n",
       "      <td>8.35</td>\n",
       "      <td>9.4</td>\n",
       "      <td>105.9</td>\n",
       "      <td>263.3</td>\n",
       "      <td>850.2</td>\n",
       "      <td>520.5</td>\n",
       "      <td>293.6</td>\n",
       "      <td>217.2</td>\n",
       "      <td>383.5</td>\n",
       "      <td>74.4</td>\n",
       "      <td>0.2</td>\n",
       "      <td>9.75</td>\n",
       "      <td>378.6</td>\n",
       "      <td>1881.5</td>\n",
       "      <td>457.9</td>\n",
       "    </tr>\n",
       "  </tbody>\n",
       "</table>\n",
       "</div>"
      ],
      "text/plain": [
       "      YEAR   JAN    FEB   MAR    APR    MAY     JUN     JUL    AUG    SEP  \\\n",
       "3955  1901  28.7  44.70  51.6  160.0  174.7   824.6   743.0  357.5  197.7   \n",
       "3956  1902   6.7   2.60  57.3   83.9  134.5   390.9  1205.0  315.8  491.6   \n",
       "3957  1903   3.2  18.60   3.1   83.6  249.7   558.6  1022.5  420.2  341.8   \n",
       "3958  1904  23.7   3.00  32.2   71.5  235.7  1098.2   725.5  351.8  222.7   \n",
       "3959  1905   1.2   8.35   9.4  105.9  263.3   850.2   520.5  293.6  217.2   \n",
       "\n",
       "        OCT    NOV    DEC  Winter  Pre_monsoon  Monsoon  Post_monsoon  \n",
       "3955  266.9  350.8   48.4  121.80        386.3   2122.8         617.7  \n",
       "3956  358.4  158.3  121.5  130.80        275.7   2403.3         516.7  \n",
       "3957  354.1  157.0   59.0   80.80        336.4   2343.1         511.1  \n",
       "3958  328.1   33.9    3.3   30.00        339.4   2398.2         362.0  \n",
       "3959  383.5   74.4    0.2    9.75        378.6   1881.5         457.9  "
      ]
     },
     "execution_count": 21,
     "metadata": {},
     "output_type": "execute_result"
    }
   ],
   "source": [
    "df.head()"
   ]
  },
  {
   "cell_type": "code",
   "execution_count": 22,
   "id": "81ceb303",
   "metadata": {},
   "outputs": [
    {
     "data": {
      "text/html": [
       "<div>\n",
       "<style scoped>\n",
       "    .dataframe tbody tr th:only-of-type {\n",
       "        vertical-align: middle;\n",
       "    }\n",
       "\n",
       "    .dataframe tbody tr th {\n",
       "        vertical-align: top;\n",
       "    }\n",
       "\n",
       "    .dataframe thead th {\n",
       "        text-align: right;\n",
       "    }\n",
       "</style>\n",
       "<table border=\"1\" class=\"dataframe\">\n",
       "  <thead>\n",
       "    <tr style=\"text-align: right;\">\n",
       "      <th></th>\n",
       "      <th>YEAR</th>\n",
       "      <th>JAN</th>\n",
       "      <th>FEB</th>\n",
       "      <th>MAR</th>\n",
       "      <th>APR</th>\n",
       "      <th>MAY</th>\n",
       "      <th>JUN</th>\n",
       "      <th>JUL</th>\n",
       "      <th>AUG</th>\n",
       "      <th>SEP</th>\n",
       "      <th>OCT</th>\n",
       "      <th>NOV</th>\n",
       "      <th>DEC</th>\n",
       "      <th>Winter</th>\n",
       "      <th>Pre_monsoon</th>\n",
       "      <th>Monsoon</th>\n",
       "      <th>Post_monsoon</th>\n",
       "    </tr>\n",
       "  </thead>\n",
       "  <tbody>\n",
       "    <tr>\n",
       "      <th>count</th>\n",
       "      <td>81.000000</td>\n",
       "      <td>81.000000</td>\n",
       "      <td>81.000000</td>\n",
       "      <td>81.000000</td>\n",
       "      <td>81.000000</td>\n",
       "      <td>81.000000</td>\n",
       "      <td>81.000000</td>\n",
       "      <td>81.000000</td>\n",
       "      <td>81.000000</td>\n",
       "      <td>81.000000</td>\n",
       "      <td>81.000000</td>\n",
       "      <td>81.000000</td>\n",
       "      <td>81.000000</td>\n",
       "      <td>81.000000</td>\n",
       "      <td>81.000000</td>\n",
       "      <td>81.000000</td>\n",
       "      <td>81.000000</td>\n",
       "    </tr>\n",
       "    <tr>\n",
       "      <th>mean</th>\n",
       "      <td>1961.555556</td>\n",
       "      <td>8.859259</td>\n",
       "      <td>11.775926</td>\n",
       "      <td>29.369136</td>\n",
       "      <td>107.790123</td>\n",
       "      <td>202.383951</td>\n",
       "      <td>646.997531</td>\n",
       "      <td>706.172840</td>\n",
       "      <td>396.387037</td>\n",
       "      <td>244.403704</td>\n",
       "      <td>289.162346</td>\n",
       "      <td>168.472840</td>\n",
       "      <td>39.320988</td>\n",
       "      <td>59.956173</td>\n",
       "      <td>339.543210</td>\n",
       "      <td>1993.961111</td>\n",
       "      <td>457.635185</td>\n",
       "    </tr>\n",
       "    <tr>\n",
       "      <th>std</th>\n",
       "      <td>35.015354</td>\n",
       "      <td>9.298693</td>\n",
       "      <td>10.684033</td>\n",
       "      <td>20.841231</td>\n",
       "      <td>45.339882</td>\n",
       "      <td>100.308370</td>\n",
       "      <td>191.975478</td>\n",
       "      <td>201.183954</td>\n",
       "      <td>114.940371</td>\n",
       "      <td>120.655948</td>\n",
       "      <td>90.905537</td>\n",
       "      <td>84.584245</td>\n",
       "      <td>34.787957</td>\n",
       "      <td>35.429817</td>\n",
       "      <td>105.544508</td>\n",
       "      <td>321.987480</td>\n",
       "      <td>127.635594</td>\n",
       "    </tr>\n",
       "    <tr>\n",
       "      <th>min</th>\n",
       "      <td>1901.000000</td>\n",
       "      <td>0.000000</td>\n",
       "      <td>0.000000</td>\n",
       "      <td>0.100000</td>\n",
       "      <td>13.100000</td>\n",
       "      <td>53.400000</td>\n",
       "      <td>196.800000</td>\n",
       "      <td>221.000000</td>\n",
       "      <td>178.600000</td>\n",
       "      <td>41.300000</td>\n",
       "      <td>68.500000</td>\n",
       "      <td>31.600000</td>\n",
       "      <td>0.100000</td>\n",
       "      <td>4.200000</td>\n",
       "      <td>90.000000</td>\n",
       "      <td>1297.100000</td>\n",
       "      <td>135.500000</td>\n",
       "    </tr>\n",
       "    <tr>\n",
       "      <th>25%</th>\n",
       "      <td>1930.000000</td>\n",
       "      <td>2.400000</td>\n",
       "      <td>4.300000</td>\n",
       "      <td>16.000000</td>\n",
       "      <td>70.200000</td>\n",
       "      <td>134.500000</td>\n",
       "      <td>535.300000</td>\n",
       "      <td>558.100000</td>\n",
       "      <td>301.900000</td>\n",
       "      <td>145.800000</td>\n",
       "      <td>227.200000</td>\n",
       "      <td>99.900000</td>\n",
       "      <td>9.400000</td>\n",
       "      <td>32.300000</td>\n",
       "      <td>261.500000</td>\n",
       "      <td>1823.100000</td>\n",
       "      <td>380.100000</td>\n",
       "    </tr>\n",
       "    <tr>\n",
       "      <th>50%</th>\n",
       "      <td>1967.000000</td>\n",
       "      <td>4.700000</td>\n",
       "      <td>7.800000</td>\n",
       "      <td>23.200000</td>\n",
       "      <td>104.100000</td>\n",
       "      <td>179.500000</td>\n",
       "      <td>612.200000</td>\n",
       "      <td>705.300000</td>\n",
       "      <td>383.700000</td>\n",
       "      <td>223.900000</td>\n",
       "      <td>282.600000</td>\n",
       "      <td>153.800000</td>\n",
       "      <td>30.900000</td>\n",
       "      <td>55.300000</td>\n",
       "      <td>335.900000</td>\n",
       "      <td>1958.900000</td>\n",
       "      <td>459.100000</td>\n",
       "    </tr>\n",
       "    <tr>\n",
       "      <th>75%</th>\n",
       "      <td>1990.000000</td>\n",
       "      <td>13.100000</td>\n",
       "      <td>18.500000</td>\n",
       "      <td>38.200000</td>\n",
       "      <td>135.100000</td>\n",
       "      <td>251.000000</td>\n",
       "      <td>788.500000</td>\n",
       "      <td>835.300000</td>\n",
       "      <td>487.500000</td>\n",
       "      <td>326.500000</td>\n",
       "      <td>354.100000</td>\n",
       "      <td>223.600000</td>\n",
       "      <td>60.100000</td>\n",
       "      <td>82.000000</td>\n",
       "      <td>399.500000</td>\n",
       "      <td>2209.200000</td>\n",
       "      <td>532.400000</td>\n",
       "    </tr>\n",
       "    <tr>\n",
       "      <th>max</th>\n",
       "      <td>2017.000000</td>\n",
       "      <td>35.200000</td>\n",
       "      <td>45.700000</td>\n",
       "      <td>90.600000</td>\n",
       "      <td>214.100000</td>\n",
       "      <td>488.500000</td>\n",
       "      <td>1098.200000</td>\n",
       "      <td>1205.000000</td>\n",
       "      <td>733.900000</td>\n",
       "      <td>526.700000</td>\n",
       "      <td>511.700000</td>\n",
       "      <td>365.600000</td>\n",
       "      <td>135.200000</td>\n",
       "      <td>142.700000</td>\n",
       "      <td>548.300000</td>\n",
       "      <td>2831.300000</td>\n",
       "      <td>798.700000</td>\n",
       "    </tr>\n",
       "  </tbody>\n",
       "</table>\n",
       "</div>"
      ],
      "text/plain": [
       "              YEAR        JAN        FEB        MAR         APR         MAY  \\\n",
       "count    81.000000  81.000000  81.000000  81.000000   81.000000   81.000000   \n",
       "mean   1961.555556   8.859259  11.775926  29.369136  107.790123  202.383951   \n",
       "std      35.015354   9.298693  10.684033  20.841231   45.339882  100.308370   \n",
       "min    1901.000000   0.000000   0.000000   0.100000   13.100000   53.400000   \n",
       "25%    1930.000000   2.400000   4.300000  16.000000   70.200000  134.500000   \n",
       "50%    1967.000000   4.700000   7.800000  23.200000  104.100000  179.500000   \n",
       "75%    1990.000000  13.100000  18.500000  38.200000  135.100000  251.000000   \n",
       "max    2017.000000  35.200000  45.700000  90.600000  214.100000  488.500000   \n",
       "\n",
       "               JUN          JUL         AUG         SEP         OCT  \\\n",
       "count    81.000000    81.000000   81.000000   81.000000   81.000000   \n",
       "mean    646.997531   706.172840  396.387037  244.403704  289.162346   \n",
       "std     191.975478   201.183954  114.940371  120.655948   90.905537   \n",
       "min     196.800000   221.000000  178.600000   41.300000   68.500000   \n",
       "25%     535.300000   558.100000  301.900000  145.800000  227.200000   \n",
       "50%     612.200000   705.300000  383.700000  223.900000  282.600000   \n",
       "75%     788.500000   835.300000  487.500000  326.500000  354.100000   \n",
       "max    1098.200000  1205.000000  733.900000  526.700000  511.700000   \n",
       "\n",
       "              NOV         DEC      Winter  Pre_monsoon      Monsoon  \\\n",
       "count   81.000000   81.000000   81.000000    81.000000    81.000000   \n",
       "mean   168.472840   39.320988   59.956173   339.543210  1993.961111   \n",
       "std     84.584245   34.787957   35.429817   105.544508   321.987480   \n",
       "min     31.600000    0.100000    4.200000    90.000000  1297.100000   \n",
       "25%     99.900000    9.400000   32.300000   261.500000  1823.100000   \n",
       "50%    153.800000   30.900000   55.300000   335.900000  1958.900000   \n",
       "75%    223.600000   60.100000   82.000000   399.500000  2209.200000   \n",
       "max    365.600000  135.200000  142.700000   548.300000  2831.300000   \n",
       "\n",
       "       Post_monsoon  \n",
       "count     81.000000  \n",
       "mean     457.635185  \n",
       "std      127.635594  \n",
       "min      135.500000  \n",
       "25%      380.100000  \n",
       "50%      459.100000  \n",
       "75%      532.400000  \n",
       "max      798.700000  "
      ]
     },
     "execution_count": 22,
     "metadata": {},
     "output_type": "execute_result"
    }
   ],
   "source": [
    "df.describe()"
   ]
  },
  {
   "cell_type": "code",
   "execution_count": 23,
   "id": "77e06aaf",
   "metadata": {},
   "outputs": [],
   "source": [
    "bins = [0,2000,3452]\n",
    "groups=['No','Yes']\n",
    "df['Flood']=pd.cut(df['Monsoon'],bins,labels=groups)"
   ]
  },
  {
   "cell_type": "code",
   "execution_count": 24,
   "id": "9d41fff3",
   "metadata": {},
   "outputs": [
    {
     "data": {
      "text/html": [
       "<div>\n",
       "<style scoped>\n",
       "    .dataframe tbody tr th:only-of-type {\n",
       "        vertical-align: middle;\n",
       "    }\n",
       "\n",
       "    .dataframe tbody tr th {\n",
       "        vertical-align: top;\n",
       "    }\n",
       "\n",
       "    .dataframe thead th {\n",
       "        text-align: right;\n",
       "    }\n",
       "</style>\n",
       "<table border=\"1\" class=\"dataframe\">\n",
       "  <thead>\n",
       "    <tr style=\"text-align: right;\">\n",
       "      <th></th>\n",
       "      <th>YEAR</th>\n",
       "      <th>JAN</th>\n",
       "      <th>FEB</th>\n",
       "      <th>MAR</th>\n",
       "      <th>APR</th>\n",
       "      <th>MAY</th>\n",
       "      <th>JUN</th>\n",
       "      <th>JUL</th>\n",
       "      <th>AUG</th>\n",
       "      <th>SEP</th>\n",
       "      <th>OCT</th>\n",
       "      <th>NOV</th>\n",
       "      <th>DEC</th>\n",
       "      <th>Winter</th>\n",
       "      <th>Pre_monsoon</th>\n",
       "      <th>Monsoon</th>\n",
       "      <th>Post_monsoon</th>\n",
       "    </tr>\n",
       "  </thead>\n",
       "  <tbody>\n",
       "    <tr>\n",
       "      <th>count</th>\n",
       "      <td>81.000000</td>\n",
       "      <td>81.000000</td>\n",
       "      <td>81.000000</td>\n",
       "      <td>81.000000</td>\n",
       "      <td>81.000000</td>\n",
       "      <td>81.000000</td>\n",
       "      <td>81.000000</td>\n",
       "      <td>81.000000</td>\n",
       "      <td>81.000000</td>\n",
       "      <td>81.000000</td>\n",
       "      <td>81.000000</td>\n",
       "      <td>81.000000</td>\n",
       "      <td>81.000000</td>\n",
       "      <td>81.000000</td>\n",
       "      <td>81.000000</td>\n",
       "      <td>81.000000</td>\n",
       "      <td>81.000000</td>\n",
       "    </tr>\n",
       "    <tr>\n",
       "      <th>mean</th>\n",
       "      <td>1961.555556</td>\n",
       "      <td>8.859259</td>\n",
       "      <td>11.775926</td>\n",
       "      <td>29.369136</td>\n",
       "      <td>107.790123</td>\n",
       "      <td>202.383951</td>\n",
       "      <td>646.997531</td>\n",
       "      <td>706.172840</td>\n",
       "      <td>396.387037</td>\n",
       "      <td>244.403704</td>\n",
       "      <td>289.162346</td>\n",
       "      <td>168.472840</td>\n",
       "      <td>39.320988</td>\n",
       "      <td>59.956173</td>\n",
       "      <td>339.543210</td>\n",
       "      <td>1993.961111</td>\n",
       "      <td>457.635185</td>\n",
       "    </tr>\n",
       "    <tr>\n",
       "      <th>std</th>\n",
       "      <td>35.015354</td>\n",
       "      <td>9.298693</td>\n",
       "      <td>10.684033</td>\n",
       "      <td>20.841231</td>\n",
       "      <td>45.339882</td>\n",
       "      <td>100.308370</td>\n",
       "      <td>191.975478</td>\n",
       "      <td>201.183954</td>\n",
       "      <td>114.940371</td>\n",
       "      <td>120.655948</td>\n",
       "      <td>90.905537</td>\n",
       "      <td>84.584245</td>\n",
       "      <td>34.787957</td>\n",
       "      <td>35.429817</td>\n",
       "      <td>105.544508</td>\n",
       "      <td>321.987480</td>\n",
       "      <td>127.635594</td>\n",
       "    </tr>\n",
       "    <tr>\n",
       "      <th>min</th>\n",
       "      <td>1901.000000</td>\n",
       "      <td>0.000000</td>\n",
       "      <td>0.000000</td>\n",
       "      <td>0.100000</td>\n",
       "      <td>13.100000</td>\n",
       "      <td>53.400000</td>\n",
       "      <td>196.800000</td>\n",
       "      <td>221.000000</td>\n",
       "      <td>178.600000</td>\n",
       "      <td>41.300000</td>\n",
       "      <td>68.500000</td>\n",
       "      <td>31.600000</td>\n",
       "      <td>0.100000</td>\n",
       "      <td>4.200000</td>\n",
       "      <td>90.000000</td>\n",
       "      <td>1297.100000</td>\n",
       "      <td>135.500000</td>\n",
       "    </tr>\n",
       "    <tr>\n",
       "      <th>25%</th>\n",
       "      <td>1930.000000</td>\n",
       "      <td>2.400000</td>\n",
       "      <td>4.300000</td>\n",
       "      <td>16.000000</td>\n",
       "      <td>70.200000</td>\n",
       "      <td>134.500000</td>\n",
       "      <td>535.300000</td>\n",
       "      <td>558.100000</td>\n",
       "      <td>301.900000</td>\n",
       "      <td>145.800000</td>\n",
       "      <td>227.200000</td>\n",
       "      <td>99.900000</td>\n",
       "      <td>9.400000</td>\n",
       "      <td>32.300000</td>\n",
       "      <td>261.500000</td>\n",
       "      <td>1823.100000</td>\n",
       "      <td>380.100000</td>\n",
       "    </tr>\n",
       "    <tr>\n",
       "      <th>50%</th>\n",
       "      <td>1967.000000</td>\n",
       "      <td>4.700000</td>\n",
       "      <td>7.800000</td>\n",
       "      <td>23.200000</td>\n",
       "      <td>104.100000</td>\n",
       "      <td>179.500000</td>\n",
       "      <td>612.200000</td>\n",
       "      <td>705.300000</td>\n",
       "      <td>383.700000</td>\n",
       "      <td>223.900000</td>\n",
       "      <td>282.600000</td>\n",
       "      <td>153.800000</td>\n",
       "      <td>30.900000</td>\n",
       "      <td>55.300000</td>\n",
       "      <td>335.900000</td>\n",
       "      <td>1958.900000</td>\n",
       "      <td>459.100000</td>\n",
       "    </tr>\n",
       "    <tr>\n",
       "      <th>75%</th>\n",
       "      <td>1990.000000</td>\n",
       "      <td>13.100000</td>\n",
       "      <td>18.500000</td>\n",
       "      <td>38.200000</td>\n",
       "      <td>135.100000</td>\n",
       "      <td>251.000000</td>\n",
       "      <td>788.500000</td>\n",
       "      <td>835.300000</td>\n",
       "      <td>487.500000</td>\n",
       "      <td>326.500000</td>\n",
       "      <td>354.100000</td>\n",
       "      <td>223.600000</td>\n",
       "      <td>60.100000</td>\n",
       "      <td>82.000000</td>\n",
       "      <td>399.500000</td>\n",
       "      <td>2209.200000</td>\n",
       "      <td>532.400000</td>\n",
       "    </tr>\n",
       "    <tr>\n",
       "      <th>max</th>\n",
       "      <td>2017.000000</td>\n",
       "      <td>35.200000</td>\n",
       "      <td>45.700000</td>\n",
       "      <td>90.600000</td>\n",
       "      <td>214.100000</td>\n",
       "      <td>488.500000</td>\n",
       "      <td>1098.200000</td>\n",
       "      <td>1205.000000</td>\n",
       "      <td>733.900000</td>\n",
       "      <td>526.700000</td>\n",
       "      <td>511.700000</td>\n",
       "      <td>365.600000</td>\n",
       "      <td>135.200000</td>\n",
       "      <td>142.700000</td>\n",
       "      <td>548.300000</td>\n",
       "      <td>2831.300000</td>\n",
       "      <td>798.700000</td>\n",
       "    </tr>\n",
       "  </tbody>\n",
       "</table>\n",
       "</div>"
      ],
      "text/plain": [
       "              YEAR        JAN        FEB        MAR         APR         MAY  \\\n",
       "count    81.000000  81.000000  81.000000  81.000000   81.000000   81.000000   \n",
       "mean   1961.555556   8.859259  11.775926  29.369136  107.790123  202.383951   \n",
       "std      35.015354   9.298693  10.684033  20.841231   45.339882  100.308370   \n",
       "min    1901.000000   0.000000   0.000000   0.100000   13.100000   53.400000   \n",
       "25%    1930.000000   2.400000   4.300000  16.000000   70.200000  134.500000   \n",
       "50%    1967.000000   4.700000   7.800000  23.200000  104.100000  179.500000   \n",
       "75%    1990.000000  13.100000  18.500000  38.200000  135.100000  251.000000   \n",
       "max    2017.000000  35.200000  45.700000  90.600000  214.100000  488.500000   \n",
       "\n",
       "               JUN          JUL         AUG         SEP         OCT  \\\n",
       "count    81.000000    81.000000   81.000000   81.000000   81.000000   \n",
       "mean    646.997531   706.172840  396.387037  244.403704  289.162346   \n",
       "std     191.975478   201.183954  114.940371  120.655948   90.905537   \n",
       "min     196.800000   221.000000  178.600000   41.300000   68.500000   \n",
       "25%     535.300000   558.100000  301.900000  145.800000  227.200000   \n",
       "50%     612.200000   705.300000  383.700000  223.900000  282.600000   \n",
       "75%     788.500000   835.300000  487.500000  326.500000  354.100000   \n",
       "max    1098.200000  1205.000000  733.900000  526.700000  511.700000   \n",
       "\n",
       "              NOV         DEC      Winter  Pre_monsoon      Monsoon  \\\n",
       "count   81.000000   81.000000   81.000000    81.000000    81.000000   \n",
       "mean   168.472840   39.320988   59.956173   339.543210  1993.961111   \n",
       "std     84.584245   34.787957   35.429817   105.544508   321.987480   \n",
       "min     31.600000    0.100000    4.200000    90.000000  1297.100000   \n",
       "25%     99.900000    9.400000   32.300000   261.500000  1823.100000   \n",
       "50%    153.800000   30.900000   55.300000   335.900000  1958.900000   \n",
       "75%    223.600000   60.100000   82.000000   399.500000  2209.200000   \n",
       "max    365.600000  135.200000  142.700000   548.300000  2831.300000   \n",
       "\n",
       "       Post_monsoon  \n",
       "count     81.000000  \n",
       "mean     457.635185  \n",
       "std      127.635594  \n",
       "min      135.500000  \n",
       "25%      380.100000  \n",
       "50%      459.100000  \n",
       "75%      532.400000  \n",
       "max      798.700000  "
      ]
     },
     "execution_count": 24,
     "metadata": {},
     "output_type": "execute_result"
    }
   ],
   "source": [
    "df.describe()"
   ]
  },
  {
   "cell_type": "code",
   "execution_count": 25,
   "id": "4dbd1b69",
   "metadata": {},
   "outputs": [
    {
     "data": {
      "text/html": [
       "<div>\n",
       "<style scoped>\n",
       "    .dataframe tbody tr th:only-of-type {\n",
       "        vertical-align: middle;\n",
       "    }\n",
       "\n",
       "    .dataframe tbody tr th {\n",
       "        vertical-align: top;\n",
       "    }\n",
       "\n",
       "    .dataframe thead th {\n",
       "        text-align: right;\n",
       "    }\n",
       "</style>\n",
       "<table border=\"1\" class=\"dataframe\">\n",
       "  <thead>\n",
       "    <tr style=\"text-align: right;\">\n",
       "      <th></th>\n",
       "      <th>YEAR</th>\n",
       "      <th>JAN</th>\n",
       "      <th>FEB</th>\n",
       "      <th>MAR</th>\n",
       "      <th>APR</th>\n",
       "      <th>MAY</th>\n",
       "      <th>JUN</th>\n",
       "      <th>JUL</th>\n",
       "      <th>AUG</th>\n",
       "      <th>SEP</th>\n",
       "      <th>OCT</th>\n",
       "      <th>NOV</th>\n",
       "      <th>DEC</th>\n",
       "      <th>Winter</th>\n",
       "      <th>Pre_monsoon</th>\n",
       "      <th>Monsoon</th>\n",
       "      <th>Post_monsoon</th>\n",
       "      <th>Flood</th>\n",
       "    </tr>\n",
       "  </thead>\n",
       "  <tbody>\n",
       "    <tr>\n",
       "      <th>3955</th>\n",
       "      <td>1901</td>\n",
       "      <td>28.7</td>\n",
       "      <td>44.70</td>\n",
       "      <td>51.6</td>\n",
       "      <td>160.0</td>\n",
       "      <td>174.7</td>\n",
       "      <td>824.6</td>\n",
       "      <td>743.0</td>\n",
       "      <td>357.5</td>\n",
       "      <td>197.7</td>\n",
       "      <td>266.9</td>\n",
       "      <td>350.8</td>\n",
       "      <td>48.4</td>\n",
       "      <td>121.80</td>\n",
       "      <td>386.3</td>\n",
       "      <td>2122.8</td>\n",
       "      <td>617.7</td>\n",
       "      <td>Yes</td>\n",
       "    </tr>\n",
       "    <tr>\n",
       "      <th>3956</th>\n",
       "      <td>1902</td>\n",
       "      <td>6.7</td>\n",
       "      <td>2.60</td>\n",
       "      <td>57.3</td>\n",
       "      <td>83.9</td>\n",
       "      <td>134.5</td>\n",
       "      <td>390.9</td>\n",
       "      <td>1205.0</td>\n",
       "      <td>315.8</td>\n",
       "      <td>491.6</td>\n",
       "      <td>358.4</td>\n",
       "      <td>158.3</td>\n",
       "      <td>121.5</td>\n",
       "      <td>130.80</td>\n",
       "      <td>275.7</td>\n",
       "      <td>2403.3</td>\n",
       "      <td>516.7</td>\n",
       "      <td>Yes</td>\n",
       "    </tr>\n",
       "    <tr>\n",
       "      <th>3957</th>\n",
       "      <td>1903</td>\n",
       "      <td>3.2</td>\n",
       "      <td>18.60</td>\n",
       "      <td>3.1</td>\n",
       "      <td>83.6</td>\n",
       "      <td>249.7</td>\n",
       "      <td>558.6</td>\n",
       "      <td>1022.5</td>\n",
       "      <td>420.2</td>\n",
       "      <td>341.8</td>\n",
       "      <td>354.1</td>\n",
       "      <td>157.0</td>\n",
       "      <td>59.0</td>\n",
       "      <td>80.80</td>\n",
       "      <td>336.4</td>\n",
       "      <td>2343.1</td>\n",
       "      <td>511.1</td>\n",
       "      <td>Yes</td>\n",
       "    </tr>\n",
       "    <tr>\n",
       "      <th>3958</th>\n",
       "      <td>1904</td>\n",
       "      <td>23.7</td>\n",
       "      <td>3.00</td>\n",
       "      <td>32.2</td>\n",
       "      <td>71.5</td>\n",
       "      <td>235.7</td>\n",
       "      <td>1098.2</td>\n",
       "      <td>725.5</td>\n",
       "      <td>351.8</td>\n",
       "      <td>222.7</td>\n",
       "      <td>328.1</td>\n",
       "      <td>33.9</td>\n",
       "      <td>3.3</td>\n",
       "      <td>30.00</td>\n",
       "      <td>339.4</td>\n",
       "      <td>2398.2</td>\n",
       "      <td>362.0</td>\n",
       "      <td>Yes</td>\n",
       "    </tr>\n",
       "    <tr>\n",
       "      <th>3959</th>\n",
       "      <td>1905</td>\n",
       "      <td>1.2</td>\n",
       "      <td>8.35</td>\n",
       "      <td>9.4</td>\n",
       "      <td>105.9</td>\n",
       "      <td>263.3</td>\n",
       "      <td>850.2</td>\n",
       "      <td>520.5</td>\n",
       "      <td>293.6</td>\n",
       "      <td>217.2</td>\n",
       "      <td>383.5</td>\n",
       "      <td>74.4</td>\n",
       "      <td>0.2</td>\n",
       "      <td>9.75</td>\n",
       "      <td>378.6</td>\n",
       "      <td>1881.5</td>\n",
       "      <td>457.9</td>\n",
       "      <td>No</td>\n",
       "    </tr>\n",
       "  </tbody>\n",
       "</table>\n",
       "</div>"
      ],
      "text/plain": [
       "      YEAR   JAN    FEB   MAR    APR    MAY     JUN     JUL    AUG    SEP  \\\n",
       "3955  1901  28.7  44.70  51.6  160.0  174.7   824.6   743.0  357.5  197.7   \n",
       "3956  1902   6.7   2.60  57.3   83.9  134.5   390.9  1205.0  315.8  491.6   \n",
       "3957  1903   3.2  18.60   3.1   83.6  249.7   558.6  1022.5  420.2  341.8   \n",
       "3958  1904  23.7   3.00  32.2   71.5  235.7  1098.2   725.5  351.8  222.7   \n",
       "3959  1905   1.2   8.35   9.4  105.9  263.3   850.2   520.5  293.6  217.2   \n",
       "\n",
       "        OCT    NOV    DEC  Winter  Pre_monsoon  Monsoon  Post_monsoon Flood  \n",
       "3955  266.9  350.8   48.4  121.80        386.3   2122.8         617.7   Yes  \n",
       "3956  358.4  158.3  121.5  130.80        275.7   2403.3         516.7   Yes  \n",
       "3957  354.1  157.0   59.0   80.80        336.4   2343.1         511.1   Yes  \n",
       "3958  328.1   33.9    3.3   30.00        339.4   2398.2         362.0   Yes  \n",
       "3959  383.5   74.4    0.2    9.75        378.6   1881.5         457.9    No  "
      ]
     },
     "execution_count": 25,
     "metadata": {},
     "output_type": "execute_result"
    }
   ],
   "source": [
    "df.head()"
   ]
  },
  {
   "cell_type": "code",
   "execution_count": null,
   "id": "7039e9eb",
   "metadata": {},
   "outputs": [],
   "source": []
  },
  {
   "cell_type": "code",
   "execution_count": 26,
   "id": "03165f68",
   "metadata": {},
   "outputs": [],
   "source": [
    "df=pd.get_dummies(df,drop_first=True)"
   ]
  },
  {
   "cell_type": "code",
   "execution_count": 27,
   "id": "e4a73853",
   "metadata": {},
   "outputs": [
    {
     "data": {
      "text/html": [
       "<div>\n",
       "<style scoped>\n",
       "    .dataframe tbody tr th:only-of-type {\n",
       "        vertical-align: middle;\n",
       "    }\n",
       "\n",
       "    .dataframe tbody tr th {\n",
       "        vertical-align: top;\n",
       "    }\n",
       "\n",
       "    .dataframe thead th {\n",
       "        text-align: right;\n",
       "    }\n",
       "</style>\n",
       "<table border=\"1\" class=\"dataframe\">\n",
       "  <thead>\n",
       "    <tr style=\"text-align: right;\">\n",
       "      <th></th>\n",
       "      <th>YEAR</th>\n",
       "      <th>JAN</th>\n",
       "      <th>FEB</th>\n",
       "      <th>MAR</th>\n",
       "      <th>APR</th>\n",
       "      <th>MAY</th>\n",
       "      <th>JUN</th>\n",
       "      <th>JUL</th>\n",
       "      <th>AUG</th>\n",
       "      <th>SEP</th>\n",
       "      <th>OCT</th>\n",
       "      <th>NOV</th>\n",
       "      <th>DEC</th>\n",
       "      <th>Winter</th>\n",
       "      <th>Pre_monsoon</th>\n",
       "      <th>Monsoon</th>\n",
       "      <th>Post_monsoon</th>\n",
       "      <th>Flood_Yes</th>\n",
       "    </tr>\n",
       "  </thead>\n",
       "  <tbody>\n",
       "    <tr>\n",
       "      <th>3955</th>\n",
       "      <td>1901</td>\n",
       "      <td>28.7</td>\n",
       "      <td>44.70</td>\n",
       "      <td>51.6</td>\n",
       "      <td>160.0</td>\n",
       "      <td>174.7</td>\n",
       "      <td>824.6</td>\n",
       "      <td>743.0</td>\n",
       "      <td>357.5</td>\n",
       "      <td>197.7</td>\n",
       "      <td>266.9</td>\n",
       "      <td>350.8</td>\n",
       "      <td>48.4</td>\n",
       "      <td>121.80</td>\n",
       "      <td>386.3</td>\n",
       "      <td>2122.8</td>\n",
       "      <td>617.7</td>\n",
       "      <td>1</td>\n",
       "    </tr>\n",
       "    <tr>\n",
       "      <th>3956</th>\n",
       "      <td>1902</td>\n",
       "      <td>6.7</td>\n",
       "      <td>2.60</td>\n",
       "      <td>57.3</td>\n",
       "      <td>83.9</td>\n",
       "      <td>134.5</td>\n",
       "      <td>390.9</td>\n",
       "      <td>1205.0</td>\n",
       "      <td>315.8</td>\n",
       "      <td>491.6</td>\n",
       "      <td>358.4</td>\n",
       "      <td>158.3</td>\n",
       "      <td>121.5</td>\n",
       "      <td>130.80</td>\n",
       "      <td>275.7</td>\n",
       "      <td>2403.3</td>\n",
       "      <td>516.7</td>\n",
       "      <td>1</td>\n",
       "    </tr>\n",
       "    <tr>\n",
       "      <th>3957</th>\n",
       "      <td>1903</td>\n",
       "      <td>3.2</td>\n",
       "      <td>18.60</td>\n",
       "      <td>3.1</td>\n",
       "      <td>83.6</td>\n",
       "      <td>249.7</td>\n",
       "      <td>558.6</td>\n",
       "      <td>1022.5</td>\n",
       "      <td>420.2</td>\n",
       "      <td>341.8</td>\n",
       "      <td>354.1</td>\n",
       "      <td>157.0</td>\n",
       "      <td>59.0</td>\n",
       "      <td>80.80</td>\n",
       "      <td>336.4</td>\n",
       "      <td>2343.1</td>\n",
       "      <td>511.1</td>\n",
       "      <td>1</td>\n",
       "    </tr>\n",
       "    <tr>\n",
       "      <th>3958</th>\n",
       "      <td>1904</td>\n",
       "      <td>23.7</td>\n",
       "      <td>3.00</td>\n",
       "      <td>32.2</td>\n",
       "      <td>71.5</td>\n",
       "      <td>235.7</td>\n",
       "      <td>1098.2</td>\n",
       "      <td>725.5</td>\n",
       "      <td>351.8</td>\n",
       "      <td>222.7</td>\n",
       "      <td>328.1</td>\n",
       "      <td>33.9</td>\n",
       "      <td>3.3</td>\n",
       "      <td>30.00</td>\n",
       "      <td>339.4</td>\n",
       "      <td>2398.2</td>\n",
       "      <td>362.0</td>\n",
       "      <td>1</td>\n",
       "    </tr>\n",
       "    <tr>\n",
       "      <th>3959</th>\n",
       "      <td>1905</td>\n",
       "      <td>1.2</td>\n",
       "      <td>8.35</td>\n",
       "      <td>9.4</td>\n",
       "      <td>105.9</td>\n",
       "      <td>263.3</td>\n",
       "      <td>850.2</td>\n",
       "      <td>520.5</td>\n",
       "      <td>293.6</td>\n",
       "      <td>217.2</td>\n",
       "      <td>383.5</td>\n",
       "      <td>74.4</td>\n",
       "      <td>0.2</td>\n",
       "      <td>9.75</td>\n",
       "      <td>378.6</td>\n",
       "      <td>1881.5</td>\n",
       "      <td>457.9</td>\n",
       "      <td>0</td>\n",
       "    </tr>\n",
       "  </tbody>\n",
       "</table>\n",
       "</div>"
      ],
      "text/plain": [
       "      YEAR   JAN    FEB   MAR    APR    MAY     JUN     JUL    AUG    SEP  \\\n",
       "3955  1901  28.7  44.70  51.6  160.0  174.7   824.6   743.0  357.5  197.7   \n",
       "3956  1902   6.7   2.60  57.3   83.9  134.5   390.9  1205.0  315.8  491.6   \n",
       "3957  1903   3.2  18.60   3.1   83.6  249.7   558.6  1022.5  420.2  341.8   \n",
       "3958  1904  23.7   3.00  32.2   71.5  235.7  1098.2   725.5  351.8  222.7   \n",
       "3959  1905   1.2   8.35   9.4  105.9  263.3   850.2   520.5  293.6  217.2   \n",
       "\n",
       "        OCT    NOV    DEC  Winter  Pre_monsoon  Monsoon  Post_monsoon  \\\n",
       "3955  266.9  350.8   48.4  121.80        386.3   2122.8         617.7   \n",
       "3956  358.4  158.3  121.5  130.80        275.7   2403.3         516.7   \n",
       "3957  354.1  157.0   59.0   80.80        336.4   2343.1         511.1   \n",
       "3958  328.1   33.9    3.3   30.00        339.4   2398.2         362.0   \n",
       "3959  383.5   74.4    0.2    9.75        378.6   1881.5         457.9   \n",
       "\n",
       "      Flood_Yes  \n",
       "3955          1  \n",
       "3956          1  \n",
       "3957          1  \n",
       "3958          1  \n",
       "3959          0  "
      ]
     },
     "execution_count": 27,
     "metadata": {},
     "output_type": "execute_result"
    }
   ],
   "source": [
    "df.head()"
   ]
  },
  {
   "cell_type": "code",
   "execution_count": 28,
   "id": "04220e40",
   "metadata": {},
   "outputs": [
    {
     "data": {
      "text/plain": [
       "<seaborn.axisgrid.PairGrid at 0x1b4b0cc6dc0>"
      ]
     },
     "execution_count": 28,
     "metadata": {},
     "output_type": "execute_result"
    },
    {
     "data": {
      "image/png": "[encoded data removed]",
      "text/plain": [
       "<Figure size 776x720 with 20 Axes>"
      ]
     },
     "metadata": {
      "needs_background": "light"
     },
     "output_type": "display_data"
    }
   ],
   "source": [
    "data= df.iloc[:,[13,14,15,16,17]]\n",
    "sns.pairplot(data,hue='Flood_Yes')"
   ]
  },
  {
   "cell_type": "code",
   "execution_count": 29,
   "id": "d9522bd5",
   "metadata": {},
   "outputs": [],
   "source": [
    "#sns.scatterplot(x=df['Monsoon'],y=df['Flood_Yes'],hue='Flood_Yes')"
   ]
  },
  {
   "cell_type": "code",
   "execution_count": 30,
   "id": "b4dfa7d1",
   "metadata": {},
   "outputs": [
    {
     "name": "stderr",
     "output_type": "stream",
     "text": [
      "C:\\Users\\robin\\anaconda3\\lib\\site-packages\\seaborn\\distributions.py:2619: FutureWarning: `distplot` is a deprecated function and will be removed in a future version. Please adapt your code to use either `displot` (a figure-level function with similar flexibility) or `histplot` (an axes-level function for histograms).\n",
      "  warnings.warn(msg, FutureWarning)\n"
     ]
    },
    {
     "data": {
      "text/plain": [
       "<AxesSubplot:xlabel='Monsoon', ylabel='Density'>"
      ]
     },
     "execution_count": 30,
     "metadata": {},
     "output_type": "execute_result"
    },
    {
     "data": {
      "image/png": "[encoded data removed]",
      "text/plain": [
       "<Figure size 432x288 with 1 Axes>"
      ]
     },
     "metadata": {
      "needs_background": "light"
     },
     "output_type": "display_data"
    }
   ],
   "source": [
    "sns.distplot(df['Monsoon'])"
   ]
  },
  {
   "cell_type": "markdown",
   "id": "bf0e6131",
   "metadata": {},
   "source": [
    "# Standard scaling\n"
   ]
  },
  {
   "cell_type": "code",
   "execution_count": 31,
   "id": "65438ff8",
   "metadata": {},
   "outputs": [],
   "source": [
    "x= df.iloc[:,[13,14,15,16]]\n",
    "y=df['Flood_Yes']"
   ]
  },
  {
   "cell_type": "code",
   "execution_count": 32,
   "id": "1c7a4a17",
   "metadata": {},
   "outputs": [],
   "source": [
    "from sklearn import preprocessing\n",
    "standardisation = preprocessing.StandardScaler()\n",
    "x=standardisation.fit_transform(x)"
   ]
  },
  {
   "cell_type": "code",
   "execution_count": 33,
   "id": "82ac47d0",
   "metadata": {},
   "outputs": [],
   "source": [
    "x=pd.DataFrame(x)"
   ]
  },
  {
   "cell_type": "code",
   "execution_count": null,
   "id": "8c099402",
   "metadata": {},
   "outputs": [],
   "source": []
  },
  {
   "cell_type": "markdown",
   "id": "5396dfd2",
   "metadata": {},
   "source": [
    "# Modelling"
   ]
  },
  {
   "cell_type": "code",
   "execution_count": 34,
   "id": "decb5c7e",
   "metadata": {},
   "outputs": [],
   "source": [
    "from sklearn.model_selection import train_test_split \n",
    "x_train,x_test,y_train,y_test= train_test_split(x,y,random_state=42,test_size=0.2)"
   ]
  },
  {
   "cell_type": "markdown",
   "id": "132559f3",
   "metadata": {},
   "source": [
    "# Logistic regression"
   ]
  },
  {
   "cell_type": "code",
   "execution_count": 35,
   "id": "6c13d389",
   "metadata": {},
   "outputs": [],
   "source": [
    "from sklearn.linear_model import LogisticRegression\n",
    "log_reg= LogisticRegression()\n",
    "log_model= log_reg.fit(x_train,y_train)\n",
    "y_pred= log_model.predict(x_test)"
   ]
  },
  {
   "cell_type": "code",
   "execution_count": 36,
   "id": "6b0bdb5e",
   "metadata": {},
   "outputs": [
    {
     "data": {
      "text/plain": [
       "1.0"
      ]
     },
     "execution_count": 36,
     "metadata": {},
     "output_type": "execute_result"
    }
   ],
   "source": [
    "from sklearn.metrics import f1_score,accuracy_score, precision_score, recall_score,confusion_matrix\n",
    "f1_score(y_test,y_pred)"
   ]
  },
  {
   "cell_type": "code",
   "execution_count": 37,
   "id": "f6e794c7",
   "metadata": {},
   "outputs": [
    {
     "data": {
      "text/plain": [
       "array([[10,  0],\n",
       "       [ 0,  7]], dtype=int64)"
      ]
     },
     "execution_count": 37,
     "metadata": {},
     "output_type": "execute_result"
    }
   ],
   "source": [
    "confusion_matrix(y_test,y_pred)"
   ]
  },
  {
   "cell_type": "code",
   "execution_count": 38,
   "id": "bcec76e9",
   "metadata": {},
   "outputs": [
    {
     "data": {
      "text/plain": [
       "1.0"
      ]
     },
     "execution_count": 38,
     "metadata": {},
     "output_type": "execute_result"
    }
   ],
   "source": [
    "accuracy_score(y_test,y_pred)"
   ]
  },
  {
   "cell_type": "code",
   "execution_count": 39,
   "id": "eaabf4c8",
   "metadata": {},
   "outputs": [],
   "source": [
    "acc_lr= accuracy_score(y_test,y_pred)*100"
   ]
  },
  {
   "cell_type": "code",
   "execution_count": 40,
   "id": "cf032be3",
   "metadata": {},
   "outputs": [],
   "source": [
    "f1_lr=f1_score(y_test,y_pred)*100"
   ]
  },
  {
   "cell_type": "markdown",
   "id": "26d313fd",
   "metadata": {},
   "source": [
    "# K-NN"
   ]
  },
  {
   "cell_type": "code",
   "execution_count": 41,
   "id": "c7bb68bc",
   "metadata": {},
   "outputs": [],
   "source": [
    "from sklearn.neighbors import KNeighborsClassifier\n",
    "acc_values=[]\n",
    "neighbors= np.arange(3,15)\n",
    "for k in neighbors:\n",
    "    classifier= KNeighborsClassifier(n_neighbors=k,metric='minkowski')\n",
    "    knn_model= classifier.fit(x_train,y_train)\n",
    "    y_predict= knn_model.predict(x_test)\n",
    "    acc= accuracy_score(y_test,y_predict)\n",
    "    acc_values.append(acc)"
   ]
  },
  {
   "cell_type": "code",
   "execution_count": 42,
   "id": "066f37a5",
   "metadata": {},
   "outputs": [
    {
     "data": {
      "image/png": "[encoded data removed]",
      "text/plain": [
       "<Figure size 432x288 with 1 Axes>"
      ]
     },
     "metadata": {
      "needs_background": "light"
     },
     "output_type": "display_data"
    }
   ],
   "source": [
    "plt.plot(neighbors,acc_values,'o-')\n",
    "plt.xlabel('K-Values')\n",
    "plt.ylabel('Accuracy')\n",
    "plt.title('Accuracy for K-value')\n",
    "plt.show()"
   ]
  },
  {
   "cell_type": "code",
   "execution_count": 43,
   "id": "28fdf155",
   "metadata": {},
   "outputs": [],
   "source": [
    "classifier= KNeighborsClassifier(n_neighbors=10,metric='minkowski')\n",
    "knn_model= classifier.fit(x_train,y_train)\n",
    "y_predict= knn_model.predict(x_test)"
   ]
  },
  {
   "cell_type": "code",
   "execution_count": 44,
   "id": "6d4c5559",
   "metadata": {},
   "outputs": [
    {
     "data": {
      "text/plain": [
       "1.0"
      ]
     },
     "execution_count": 44,
     "metadata": {},
     "output_type": "execute_result"
    }
   ],
   "source": [
    "f1_score(y_test,y_predict)"
   ]
  },
  {
   "cell_type": "code",
   "execution_count": 45,
   "id": "f235951c",
   "metadata": {},
   "outputs": [
    {
     "data": {
      "text/plain": [
       "array([[10,  0],\n",
       "       [ 0,  7]], dtype=int64)"
      ]
     },
     "execution_count": 45,
     "metadata": {},
     "output_type": "execute_result"
    }
   ],
   "source": [
    "confusion_matrix(y_test,y_predict)"
   ]
  },
  {
   "cell_type": "code",
   "execution_count": 46,
   "id": "bd3022d9",
   "metadata": {},
   "outputs": [
    {
     "data": {
      "text/plain": [
       "1.0"
      ]
     },
     "execution_count": 46,
     "metadata": {},
     "output_type": "execute_result"
    }
   ],
   "source": [
    "accuracy_score(y_test,y_predict)"
   ]
  },
  {
   "cell_type": "code",
   "execution_count": 47,
   "id": "538d93a9",
   "metadata": {},
   "outputs": [],
   "source": [
    "acc_KN= accuracy_score(y_test,y_predict)*100\n",
    "f1_KN=f1_score(y_test,y_predict)*100"
   ]
  },
  {
   "cell_type": "code",
   "execution_count": null,
   "id": "0129105e",
   "metadata": {},
   "outputs": [],
   "source": []
  },
  {
   "cell_type": "markdown",
   "id": "7dbfe7e1",
   "metadata": {},
   "source": [
    "# Decision Tree"
   ]
  },
  {
   "cell_type": "code",
   "execution_count": 48,
   "id": "9432487c",
   "metadata": {},
   "outputs": [
    {
     "data": {
      "text/plain": [
       "1.0"
      ]
     },
     "execution_count": 48,
     "metadata": {},
     "output_type": "execute_result"
    }
   ],
   "source": [
    " from sklearn.tree import DecisionTreeClassifier\n",
    "dt=  DecisionTreeClassifier()\n",
    "dt_model=dt.fit(x_train,y_train)\n",
    "y_predict =dt_model.predict(x_test)\n",
    "f1_score(y_test,y_predict)"
   ]
  },
  {
   "cell_type": "code",
   "execution_count": 49,
   "id": "d3d07bb4",
   "metadata": {},
   "outputs": [
    {
     "data": {
      "text/plain": [
       "array([[10,  0],\n",
       "       [ 0,  7]], dtype=int64)"
      ]
     },
     "execution_count": 49,
     "metadata": {},
     "output_type": "execute_result"
    }
   ],
   "source": [
    "confusion_matrix(y_test,y_predict)"
   ]
  },
  {
   "cell_type": "code",
   "execution_count": 50,
   "id": "7ce2deb7",
   "metadata": {},
   "outputs": [
    {
     "data": {
      "text/plain": [
       "1.0"
      ]
     },
     "execution_count": 50,
     "metadata": {},
     "output_type": "execute_result"
    }
   ],
   "source": [
    "accuracy_score(y_test,y_predict)"
   ]
  },
  {
   "cell_type": "code",
   "execution_count": 51,
   "id": "1b8cd9b4",
   "metadata": {},
   "outputs": [],
   "source": [
    "acc_dt= accuracy_score(y_test,y_predict)*100\n",
    "f1_dt=f1_score(y_test,y_predict)*100"
   ]
  },
  {
   "cell_type": "markdown",
   "id": "2e298e4d",
   "metadata": {},
   "source": [
    "# Linear SVM"
   ]
  },
  {
   "cell_type": "code",
   "execution_count": 52,
   "id": "37ae9e51",
   "metadata": {},
   "outputs": [],
   "source": [
    "from sklearn.svm import SVC\n",
    "svm=SVC(kernel='linear')\n",
    "svm_model= svm.fit(x_train,y_train)\n",
    "y_pred= svm_model.predict(x_test)"
   ]
  },
  {
   "cell_type": "code",
   "execution_count": 53,
   "id": "754b72df",
   "metadata": {},
   "outputs": [
    {
     "data": {
      "text/plain": [
       "1.0"
      ]
     },
     "execution_count": 53,
     "metadata": {},
     "output_type": "execute_result"
    }
   ],
   "source": [
    "f1_score(y_test,y_pred)"
   ]
  },
  {
   "cell_type": "code",
   "execution_count": 54,
   "id": "969cb939",
   "metadata": {},
   "outputs": [
    {
     "data": {
      "text/plain": [
       "array([[10,  0],\n",
       "       [ 0,  7]], dtype=int64)"
      ]
     },
     "execution_count": 54,
     "metadata": {},
     "output_type": "execute_result"
    }
   ],
   "source": [
    "confusion_matrix(y_test,y_pred)"
   ]
  },
  {
   "cell_type": "code",
   "execution_count": 55,
   "id": "be29c6d2",
   "metadata": {},
   "outputs": [
    {
     "data": {
      "text/plain": [
       "1.0"
      ]
     },
     "execution_count": 55,
     "metadata": {},
     "output_type": "execute_result"
    }
   ],
   "source": [
    "accuracy_score(y_test,y_pred)"
   ]
  },
  {
   "cell_type": "code",
   "execution_count": 56,
   "id": "e9bbba19",
   "metadata": {},
   "outputs": [],
   "source": [
    "acc_svm= accuracy_score(y_test,y_pred)*100\n",
    "f1_svm=f1_score(y_test,y_pred)*100"
   ]
  },
  {
   "cell_type": "markdown",
   "id": "3cee8dba",
   "metadata": {},
   "source": [
    "# Random Forest"
   ]
  },
  {
   "cell_type": "code",
   "execution_count": 57,
   "id": "5a9406bd",
   "metadata": {},
   "outputs": [],
   "source": [
    "from sklearn.ensemble import RandomForestClassifier\n",
    "rfc=RandomForestClassifier()\n",
    "random_model=rfc.fit(x_train,y_train)\n",
    "y_predict=random_model.predict(x_test)"
   ]
  },
  {
   "cell_type": "code",
   "execution_count": 58,
   "id": "11326e7a",
   "metadata": {},
   "outputs": [
    {
     "data": {
      "text/plain": [
       "1.0"
      ]
     },
     "execution_count": 58,
     "metadata": {},
     "output_type": "execute_result"
    }
   ],
   "source": [
    "f1_score(y_test,y_predict)"
   ]
  },
  {
   "cell_type": "code",
   "execution_count": 59,
   "id": "5df58575",
   "metadata": {},
   "outputs": [
    {
     "data": {
      "text/plain": [
       "array([[10,  0],\n",
       "       [ 0,  7]], dtype=int64)"
      ]
     },
     "execution_count": 59,
     "metadata": {},
     "output_type": "execute_result"
    }
   ],
   "source": [
    "confusion_matrix(y_test,y_predict)"
   ]
  },
  {
   "cell_type": "code",
   "execution_count": 60,
   "id": "7f008fb9",
   "metadata": {},
   "outputs": [
    {
     "data": {
      "text/plain": [
       "1.0"
      ]
     },
     "execution_count": 60,
     "metadata": {},
     "output_type": "execute_result"
    }
   ],
   "source": [
    "accuracy_score(y_test,y_predict)"
   ]
  },
  {
   "cell_type": "code",
   "execution_count": 61,
   "id": "7b30a503",
   "metadata": {},
   "outputs": [],
   "source": [
    "acc_rf= accuracy_score(y_test,y_predict)*100\n",
    "f1_rf=f1_score(y_test,y_predict)*100"
   ]
  },
  {
   "cell_type": "markdown",
   "id": "c4485cf5",
   "metadata": {},
   "source": [
    "# Poly SVM"
   ]
  },
  {
   "cell_type": "code",
   "execution_count": 62,
   "id": "a19592dc",
   "metadata": {},
   "outputs": [],
   "source": [
    "svm_poly = SVC(kernel='poly',degree = 3)\n",
    "svm_model= svm_poly.fit(x_train,y_train)\n",
    "y_predict= svm_model.predict(x_test)"
   ]
  },
  {
   "cell_type": "code",
   "execution_count": 63,
   "id": "a0722466",
   "metadata": {},
   "outputs": [],
   "source": [
    "acc_psvm= accuracy_score(y_test,y_predict)*100\n",
    "f1_psvm=f1_score(y_test,y_predict)*100"
   ]
  },
  {
   "cell_type": "code",
   "execution_count": 64,
   "id": "c5ccdb7f",
   "metadata": {},
   "outputs": [
    {
     "data": {
      "text/plain": [
       "array([[8, 2],\n",
       "       [0, 7]], dtype=int64)"
      ]
     },
     "execution_count": 64,
     "metadata": {},
     "output_type": "execute_result"
    }
   ],
   "source": [
    "confusion_matrix(y_test,y_predict)"
   ]
  },
  {
   "cell_type": "markdown",
   "id": "51983eea",
   "metadata": {},
   "source": [
    "# Radial SVM"
   ]
  },
  {
   "cell_type": "code",
   "execution_count": 65,
   "id": "fd9329d9",
   "metadata": {},
   "outputs": [],
   "source": [
    "svm_radial= SVC(kernel='rbf')\n",
    "svm_model= svm_radial.fit(x_train,y_train)\n",
    "y_predict= svm_model.predict(x_test)"
   ]
  },
  {
   "cell_type": "code",
   "execution_count": 66,
   "id": "9d3c0d32",
   "metadata": {},
   "outputs": [],
   "source": [
    "acc_rsvm= accuracy_score(y_test,y_predict)*100\n",
    "f1_rsvm=f1_score(y_test,y_predict)*100"
   ]
  },
  {
   "cell_type": "code",
   "execution_count": 67,
   "id": "13976aa8",
   "metadata": {},
   "outputs": [],
   "source": [
    "results = pd.DataFrame({\n",
    "    'Model': ['Logistic Regression', \n",
    "              'KNN',\n",
    "              'Decision Tree',\n",
    "              'Linear Support Vector Machine',\n",
    "              'Random Forest','Polynomial SVM','Radial SVM'],\n",
    "    'f1-Score': [ f1_lr,\n",
    "                      f1_KN, \n",
    "                      f1_dt,\n",
    "                      f1_svm,\n",
    "                      f1_rf,f1_psvm,f1_rsvm],\n",
    "    'Accuracy_score':[ acc_lr,\n",
    "                      acc_KN, \n",
    "                      acc_dt,\n",
    "                      acc_svm,\n",
    "                      acc_rf,acc_psvm,acc_rsvm]})"
   ]
  },
  {
   "cell_type": "code",
   "execution_count": 68,
   "id": "614ad102",
   "metadata": {},
   "outputs": [
    {
     "data": {
      "text/html": [
       "<div>\n",
       "<style scoped>\n",
       "    .dataframe tbody tr th:only-of-type {\n",
       "        vertical-align: middle;\n",
       "    }\n",
       "\n",
       "    .dataframe tbody tr th {\n",
       "        vertical-align: top;\n",
       "    }\n",
       "\n",
       "    .dataframe thead th {\n",
       "        text-align: right;\n",
       "    }\n",
       "</style>\n",
       "<table border=\"1\" class=\"dataframe\">\n",
       "  <thead>\n",
       "    <tr style=\"text-align: right;\">\n",
       "      <th></th>\n",
       "      <th>Model</th>\n",
       "      <th>f1-Score</th>\n",
       "      <th>Accuracy_score</th>\n",
       "    </tr>\n",
       "  </thead>\n",
       "  <tbody>\n",
       "    <tr>\n",
       "      <th>0</th>\n",
       "      <td>Logistic Regression</td>\n",
       "      <td>100.000000</td>\n",
       "      <td>100.000000</td>\n",
       "    </tr>\n",
       "    <tr>\n",
       "      <th>1</th>\n",
       "      <td>KNN</td>\n",
       "      <td>100.000000</td>\n",
       "      <td>100.000000</td>\n",
       "    </tr>\n",
       "    <tr>\n",
       "      <th>2</th>\n",
       "      <td>Decision Tree</td>\n",
       "      <td>100.000000</td>\n",
       "      <td>100.000000</td>\n",
       "    </tr>\n",
       "    <tr>\n",
       "      <th>3</th>\n",
       "      <td>Linear Support Vector Machine</td>\n",
       "      <td>100.000000</td>\n",
       "      <td>100.000000</td>\n",
       "    </tr>\n",
       "    <tr>\n",
       "      <th>4</th>\n",
       "      <td>Random Forest</td>\n",
       "      <td>100.000000</td>\n",
       "      <td>100.000000</td>\n",
       "    </tr>\n",
       "    <tr>\n",
       "      <th>5</th>\n",
       "      <td>Radial SVM</td>\n",
       "      <td>92.307692</td>\n",
       "      <td>94.117647</td>\n",
       "    </tr>\n",
       "    <tr>\n",
       "      <th>6</th>\n",
       "      <td>Polynomial SVM</td>\n",
       "      <td>87.500000</td>\n",
       "      <td>88.235294</td>\n",
       "    </tr>\n",
       "  </tbody>\n",
       "</table>\n",
       "</div>"
      ],
      "text/plain": [
       "                           Model    f1-Score  Accuracy_score\n",
       "0            Logistic Regression  100.000000      100.000000\n",
       "1                            KNN  100.000000      100.000000\n",
       "2                  Decision Tree  100.000000      100.000000\n",
       "3  Linear Support Vector Machine  100.000000      100.000000\n",
       "4                  Random Forest  100.000000      100.000000\n",
       "5                     Radial SVM   92.307692       94.117647\n",
       "6                 Polynomial SVM   87.500000       88.235294"
      ]
     },
     "execution_count": 68,
     "metadata": {},
     "output_type": "execute_result"
    }
   ],
   "source": [
    "result_df = results.sort_values(by='Accuracy_score', ascending=False)\n",
    "result_df.reset_index(drop=True,inplace=True)\n",
    "result_df.head(7)"
   ]
  },
  {
   "cell_type": "code",
   "execution_count": 69,
   "id": "b932e33b",
   "metadata": {},
   "outputs": [
    {
     "data": {
      "image/png": "[encoded data removed]",
      "text/plain": [
       "<Figure size 1080x720 with 1 Axes>"
      ]
     },
     "metadata": {
      "needs_background": "light"
     },
     "output_type": "display_data"
    }
   ],
   "source": [
    "plt.subplots(figsize=(15,10))\n",
    "ax=sns.barplot(x='Model',y='Accuracy_score',data=result_df)\n",
    "labels = (result_df['Accuracy_score'])\n",
    "for i, v in enumerate(labels):\n",
    "    ax.text(i, v+1, str(v), horizontalalignment = 'center')"
   ]
  },
  {
   "cell_type": "markdown",
   "id": "cc089073",
   "metadata": {},
   "source": [
    "Here decision tree and Random forest are best models with 100% accuracy and f1-score"
   ]
  },
  {
   "cell_type": "markdown",
   "id": "d55ff4f3",
   "metadata": {},
   "source": [
    "# Fine Tuning"
   ]
  },
  {
   "cell_type": "code",
   "execution_count": 109,
   "id": "2cb7111b",
   "metadata": {},
   "outputs": [],
   "source": [
    "y_predict =random_model.predict([[0,0,2000,75]])"
   ]
  },
  {
   "cell_type": "code",
   "execution_count": 110,
   "id": "a7b92087",
   "metadata": {},
   "outputs": [
    {
     "data": {
      "text/plain": [
       "array([1], dtype=uint8)"
      ]
     },
     "execution_count": 110,
     "metadata": {},
     "output_type": "execute_result"
    }
   ],
   "source": [
    "y_predict"
   ]
  },
  {
   "cell_type": "code",
   "execution_count": 111,
   "id": "d515cddf",
   "metadata": {},
   "outputs": [
    {
     "name": "stdout",
     "output_type": "stream",
     "text": [
      "It floods\n"
     ]
    }
   ],
   "source": [
    "if(y_predict==1):\n",
    "    print(\"It floods\")\n",
    "else:\n",
    "    print(\"It doesn't flood\")"
   ]
  },
  {
   "cell_type": "code",
   "execution_count": null,
   "id": "2e746917",
   "metadata": {},
   "outputs": [],
   "source": []
  }
 ],
 "metadata": {
  "kernelspec": {
   "display_name": "Python 3 (ipykernel)",
   "language": "python",
   "name": "python3"
  },
  "language_info": {
   "codemirror_mode": {
    "name": "ipython",
    "version": 3
   },
   "file_extension": ".py",
   "mimetype": "text/x-python",
   "name": "python",
   "nbconvert_exporter": "python",
   "pygments_lexer": "ipython3",
   "version": "3.9.12"
  }
 },
 "nbformat": 4,
 "nbformat_minor": 5
}
